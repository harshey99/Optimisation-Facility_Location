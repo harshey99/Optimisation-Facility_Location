{
 "cells": [
  {
   "cell_type": "markdown",
   "id": "957558c0",
   "metadata": {},
   "source": [
    "## CT5141 Optimisation Assignment 2 (James McDermott)\n"
   ]
  },
  {
   "cell_type": "markdown",
   "id": "d4f15c61",
   "metadata": {},
   "source": [
    "\n",
    "**Topic** Facility location with real-valued metaheuristic optimisation. How to run experiments.\n",
    "\n",
    "**Problem** The **facility location** problem is about finding the best locations for some facilities. In our problem, we have a list of cities, and we are going to build some supermarkets to serve the customers in these cities. The supermarkets could be anywhere, not just at the cities, i.e. a supermarket could be near a city or between two cities. There is no population outside the cities. Supermarkets have no limit on capacity. We want to locate the supermarkets so as to minimise the total travel time for all customers. The objective function is formulated in `supermarket.ipynb` with data in `supermarket_cities_locations.csv` and `supermarket_cities_populations.csv`. A plotting function is included. We will implement a Random Search approach to this problem, a Particle Swarm Optimisation approach, and a CMA approach.\n"
   ]
  },
  {
   "cell_type": "code",
   "execution_count": 66,
   "id": "2bd2ce96",
   "metadata": {},
   "outputs": [],
   "source": [
    "import numpy as np\n",
    "from scipy.spatial.distance import cdist\n",
    "import matplotlib.pyplot as plt\n",
    "# Additional import statements required to implement the algorithms\n",
    "import random\n",
    "import time\n",
    "import pyswarms as ps\n",
    "import itertools\n",
    "import cma\n",
    "import pandas as pd"
   ]
  },
  {
   "cell_type": "code",
   "execution_count": 51,
   "id": "743ba46e",
   "metadata": {},
   "outputs": [],
   "source": [
    "def total_travel_time(x, c, p):\n",
    "    # x: locations of supermarkets (ie genotype), shape eg (5, 2)\n",
    "    # c: locations of cities, shape eg (20, 2)\n",
    "    # p: populations of cities, shape eg (20,)\n",
    "\n",
    "    # assume that everyone travels to the supermarket exactly once per\n",
    "    # week\n",
    "\n",
    "    # assume that travel time is exactly proportional to Euclidean\n",
    "    # distance from city to supermarket\n",
    "    \n",
    "    # calculate all city-supermarket distances. with (eg) 20 cities\n",
    "    # and 5 supermarkets, we'll have d.shape = (20, 5)\n",
    "    d = cdist(c, x)\n",
    "    # everyone in city i will travel to their nearest supermarket,\n",
    "    # so we need minimum distance from each city to any supermarket.\n",
    "    dmin = np.min(d, axis=1)\n",
    "    # there are p[i] people in city i, each travelling a distance\n",
    "    # dmin[i], so multiply and sum for total travel time\n",
    "    return np.sum(dmin * p)\n",
    "\n",
    "def total_travel_time_slow(x, c, p):\n",
    "    # Notice that the above is vectorised and is only 2-3 lines. \n",
    "    # it's equivalent to this slower (easier to understand?) code\n",
    "    d = cdist(c, x)\n",
    "    t = 0\n",
    "    for i, pi in enumerate(p):\n",
    "        # everyone in city i will travel to their nearest supermarket,\n",
    "        # so we need minimum distance from city i to any supermarket.\n",
    "        d = np.min(D[i])\n",
    "        # there are pi people in city i, each travelling a distance d\n",
    "        t += pi * d \n",
    "    return t\n",
    "\n",
    "\n",
    "def plot(x, c, p):\n",
    "    # solutions will be of shape (eg) (10,)\n",
    "    # but we interpret as shape (5, 2)\n",
    "    x = x.reshape((-1, 2))\n",
    "    plt.figure(figsize=(6, 5))\n",
    "    plt.scatter(c[:, 0], c[:, 1], s=p/10000, label=\"Cities\") # s gives size\n",
    "    plt.scatter(x[:, 0], x[:, 1], marker=\"*\", label=\"Supermarkets\") # stars for supermarkets\n",
    "    plt.gca().set_aspect('equal')\n",
    "    plt.legend()\n",
    "    plt.savefig(\"supermarket.pdf\")\n",
    "    plt.show()\n",
    "    plt.close()\n"
   ]
  },
  {
   "cell_type": "code",
   "execution_count": 52,
   "id": "0543974b",
   "metadata": {},
   "outputs": [],
   "source": [
    "c = np.genfromtxt(\"supermarket_city_locations.csv\")\n",
    "p = np.genfromtxt(\"supermarket_city_populations.csv\")\n",
    "ncities = len(c)\n",
    "nsupermarkets = 5"
   ]
  },
  {
   "cell_type": "code",
   "execution_count": 53,
   "id": "dc454666",
   "metadata": {},
   "outputs": [],
   "source": [
    "# common parameters\n",
    "maxits = 20000\n",
    "reps = 5"
   ]
  },
  {
   "cell_type": "code",
   "execution_count": 54,
   "id": "befaca0c",
   "metadata": {},
   "outputs": [],
   "source": [
    "# Random Search\n",
    "def random_search_algo():\n",
    "    rs_dict_table = {\"Algorithm\": \"RS\", \"popsize\": \"na\", \"w\": \"na\", \"Cg\": \"na\", \"Cp\": \"na\"}\n",
    "    best_cost = 0\n",
    "    best_distance = list()\n",
    "    time_spent = list()\n",
    "    for s in range(0,reps):\n",
    "        rs_start_time = time.time()\n",
    "        print(\"Start Time: \", rs_start_time)\n",
    "        np.random.seed(s)\n",
    "        for i in range(maxits):\n",
    "            supermarkets_loc = np.random.rand(nsupermarkets,2)\n",
    "            distance = total_travel_time(supermarkets_loc, c, p)\n",
    "            if i == 0:\n",
    "                best_cost = distance\n",
    "            if distance < best_cost:\n",
    "                best_cost = distance\n",
    "\n",
    "        rs_end_time = time.time()\n",
    "        print(\"End Time: \", rs_end_time)\n",
    "        best_distance.append(best_cost)\n",
    "        time_spent.append(end_time - start_time)\n",
    "        \n",
    "    rs_dict_table[\"min\"] = min(best_distance)\n",
    "    rs_dict_table[\"mean\"] = np.mean(best_distance)\n",
    "    rs_dict_table[\"stddev\"] = np.std(best_distance)\n",
    "    rs_dict_table[\"time\"] = np.mean(time_spent)\n",
    "    \n",
    "    return rs_dict_table"
   ]
  },
  {
   "cell_type": "code",
   "execution_count": 55,
   "id": "fb495ad6",
   "metadata": {},
   "outputs": [],
   "source": [
    "def time_travel_PSO(x):\n",
    "    travel_time_list = list()\n",
    "    for loc in x:\n",
    "        supermarket = loc.reshape(nsupermarkets,2)\n",
    "        travel_time = total_travel_time(supermarket, c, p)\n",
    "        travel_time_list.append(travel_time)\n",
    "    return travel_time_list"
   ]
  },
  {
   "cell_type": "code",
   "execution_count": null,
   "id": "f88a0923",
   "metadata": {},
   "outputs": [],
   "source": [
    "def formulate_pso_dict(pso_dict_value):\n",
    "    \n",
    "    \n",
    "    return dict_table"
   ]
  },
  {
   "cell_type": "code",
   "execution_count": 64,
   "id": "386822f3",
   "metadata": {},
   "outputs": [
    {
     "name": "stderr",
     "output_type": "stream",
     "text": [
      "2021-11-21 01:02:51,969 - pyswarms.single.global_best - INFO - Optimize for 250 iters with {'c1': 1.9, 'c2': 1.7, 'w': 0.9}\n"
     ]
    },
    {
     "name": "stdout",
     "output_type": "stream",
     "text": [
      "Start Time:  1637456571.9615495\n"
     ]
    },
    {
     "name": "stderr",
     "output_type": "stream",
     "text": [
      "pyswarms.single.global_best: 100%|██████████████████████████████████████████████████████████|250/250, best_cost=4.21e+5\n",
      "2021-11-21 01:02:52,813 - pyswarms.single.global_best - INFO - Optimization finished | best cost: 421016.4805773466, best pos: [-5.34296721  0.45729605  0.63005831  0.40022367  1.43451403 -2.36241105\n",
      "  0.83288006  0.77272662  0.14345161  0.54639671]\n",
      "2021-11-21 01:02:52,813 - pyswarms.single.global_best - INFO - Optimize for 200 iters with {'c1': 1.9, 'c2': 1.7, 'w': 0.9}\n"
     ]
    },
    {
     "name": "stdout",
     "output_type": "stream",
     "text": [
      "End Time:  1637456572.8132386\n",
      "Start Time:  1637456572.8132386\n"
     ]
    },
    {
     "name": "stderr",
     "output_type": "stream",
     "text": [
      "pyswarms.single.global_best: 100%|██████████████████████████████████████████████████████████|200/200, best_cost=5.14e+5\n",
      "2021-11-21 01:02:53,588 - pyswarms.single.global_best - INFO - Optimization finished | best cost: 513790.501718807, best pos: [ 0.63943665  0.40915032  0.50980902  0.6333211   0.76051087  0.83970722\n",
      " -2.00881197  1.4625664   1.01358906  0.73824222]\n",
      "2021-11-21 01:02:53,596 - pyswarms.single.global_best - INFO - Optimize for 250 iters with {'c1': 1.9, 'c2': 1.7, 'w': 0.5}\n"
     ]
    },
    {
     "name": "stdout",
     "output_type": "stream",
     "text": [
      "End Time:  1637456573.588721\n",
      "Start Time:  1637456573.588721\n"
     ]
    },
    {
     "name": "stderr",
     "output_type": "stream",
     "text": [
      "pyswarms.single.global_best: 100%|██████████████████████████████████████████████████████████|250/250, best_cost=1.71e+5\n",
      "2021-11-21 01:02:54,454 - pyswarms.single.global_best - INFO - Optimization finished | best cost: 170930.46390233914, best pos: [0.5425991  0.52992577 0.08617522 0.39393245 0.80954198 0.76829616\n",
      " 0.64831793 0.4023767  0.12073474 0.65456506]\n",
      "2021-11-21 01:02:54,462 - pyswarms.single.global_best - INFO - Optimize for 200 iters with {'c1': 1.9, 'c2': 1.7, 'w': 0.5}\n"
     ]
    },
    {
     "name": "stdout",
     "output_type": "stream",
     "text": [
      "End Time:  1637456574.4545784\n",
      "Start Time:  1637456574.4545784\n"
     ]
    },
    {
     "name": "stderr",
     "output_type": "stream",
     "text": [
      "pyswarms.single.global_best: 100%|██████████████████████████████████████████████████████████|200/200, best_cost=1.71e+5\n",
      "2021-11-21 01:02:55,246 - pyswarms.single.global_best - INFO - Optimization finished | best cost: 170930.46525279075, best pos: [0.08617523 0.39393245 0.80954198 0.76829616 0.64831793 0.4023767\n",
      " 0.12073474 0.65456506 0.5425991  0.52992577]\n",
      "2021-11-21 01:02:55,246 - pyswarms.single.global_best - INFO - Optimize for 250 iters with {'c1': 1.9, 'c2': 2, 'w': 0.9}\n"
     ]
    },
    {
     "name": "stdout",
     "output_type": "stream",
     "text": [
      "End Time:  1637456575.246048\n",
      "Start Time:  1637456575.246048\n"
     ]
    },
    {
     "name": "stderr",
     "output_type": "stream",
     "text": [
      "pyswarms.single.global_best: 100%|██████████████████████████████████████████████████████████|250/250, best_cost=4.94e+5\n",
      "2021-11-21 01:02:56,085 - pyswarms.single.global_best - INFO - Optimization finished | best cost: 494076.99410107615, best pos: [0.95847014 0.76037444 0.97027983 0.05890662 0.65788651 0.22334609\n",
      " 0.13999167 0.55473249 0.64193905 0.41283974]\n",
      "2021-11-21 01:02:56,093 - pyswarms.single.global_best - INFO - Optimize for 200 iters with {'c1': 1.9, 'c2': 2, 'w': 0.9}\n"
     ]
    },
    {
     "name": "stdout",
     "output_type": "stream",
     "text": [
      "End Time:  1637456576.0854867\n",
      "Start Time:  1637456576.0854867\n"
     ]
    },
    {
     "name": "stderr",
     "output_type": "stream",
     "text": [
      "pyswarms.single.global_best: 100%|██████████████████████████████████████████████████████████|200/200, best_cost=5.13e+5\n",
      "2021-11-21 01:02:56,845 - pyswarms.single.global_best - INFO - Optimization finished | best cost: 512710.406294444, best pos: [0.79977244 0.74475587 0.66999573 0.3592189  0.67931093 0.80876875\n",
      " 0.11382155 0.37687457 0.25554922 0.73300789]\n",
      "2021-11-21 01:02:56,845 - pyswarms.single.global_best - INFO - Optimize for 250 iters with {'c1': 1.9, 'c2': 2, 'w': 0.5}\n"
     ]
    },
    {
     "name": "stdout",
     "output_type": "stream",
     "text": [
      "End Time:  1637456576.845581\n",
      "Start Time:  1637456576.845581\n"
     ]
    },
    {
     "name": "stderr",
     "output_type": "stream",
     "text": [
      "pyswarms.single.global_best: 100%|██████████████████████████████████████████████████████████|250/250, best_cost=1.71e+5\n",
      "2021-11-21 01:02:57,661 - pyswarms.single.global_best - INFO - Optimization finished | best cost: 170930.46681796364, best pos: [0.64831793 0.4023767  0.12073474 0.65456506 0.5425991  0.52992577\n",
      " 0.08617523 0.39393246 0.80954198 0.76829616]\n",
      "2021-11-21 01:02:57,668 - pyswarms.single.global_best - INFO - Optimize for 200 iters with {'c1': 1.9, 'c2': 2, 'w': 0.5}\n"
     ]
    },
    {
     "name": "stdout",
     "output_type": "stream",
     "text": [
      "End Time:  1637456577.661001\n",
      "Start Time:  1637456577.661001\n"
     ]
    },
    {
     "name": "stderr",
     "output_type": "stream",
     "text": [
      "pyswarms.single.global_best: 100%|███████████████████████████████████████████████████████████|200/200, best_cost=1.5e+5\n",
      "2021-11-21 01:02:58,480 - pyswarms.single.global_best - INFO - Optimization finished | best cost: 150284.45530563797, best pos: [0.08617525 0.39393373 0.54259912 0.52992577 0.64831793 0.4023767\n",
      " 0.88256912 0.98920925 0.809542   0.76829619]\n",
      "2021-11-21 01:02:58,488 - pyswarms.single.global_best - INFO - Optimize for 250 iters with {'c1': 2, 'c2': 1.7, 'w': 0.9}\n"
     ]
    },
    {
     "name": "stdout",
     "output_type": "stream",
     "text": [
      "End Time:  1637456578.48071\n",
      "Start Time:  1637456578.48071\n"
     ]
    },
    {
     "name": "stderr",
     "output_type": "stream",
     "text": [
      "pyswarms.single.global_best: 100%|██████████████████████████████████████████████████████████|250/250, best_cost=4.39e+5\n",
      "2021-11-21 01:02:59,359 - pyswarms.single.global_best - INFO - Optimization finished | best cost: 438671.30453308363, best pos: [ 0.64769003  0.38472865 -0.02444871  0.07892373  0.14518202  0.85002103\n",
      "  0.22953112  0.63987657  0.81291267  0.82977961]\n",
      "2021-11-21 01:02:59,368 - pyswarms.single.global_best - INFO - Optimize for 200 iters with {'c1': 2, 'c2': 1.7, 'w': 0.9}\n"
     ]
    },
    {
     "name": "stdout",
     "output_type": "stream",
     "text": [
      "End Time:  1637456579.359515\n",
      "Start Time:  1637456579.359515\n"
     ]
    },
    {
     "name": "stderr",
     "output_type": "stream",
     "text": [
      "pyswarms.single.global_best: 100%|██████████████████████████████████████████████████████████|200/200, best_cost=5.02e+5\n",
      "2021-11-21 01:03:00,170 - pyswarms.single.global_best - INFO - Optimization finished | best cost: 501705.89761834557, best pos: [0.1944832  0.92220734 0.67481495 0.5178524  0.81653766 0.92682276\n",
      " 0.17960966 0.74238853 0.65763502 0.37436648]\n",
      "2021-11-21 01:03:00,178 - pyswarms.single.global_best - INFO - Optimize for 250 iters with {'c1': 2, 'c2': 1.7, 'w': 0.5}\n"
     ]
    },
    {
     "name": "stdout",
     "output_type": "stream",
     "text": [
      "End Time:  1637456580.1701841\n",
      "Start Time:  1637456580.1701841\n"
     ]
    },
    {
     "name": "stderr",
     "output_type": "stream",
     "text": [
      "pyswarms.single.global_best: 100%|██████████████████████████████████████████████████████████|250/250, best_cost=1.71e+5\n",
      "2021-11-21 01:03:01,079 - pyswarms.single.global_best - INFO - Optimization finished | best cost: 170930.46394532564, best pos: [0.5425991  0.52992577 0.80954198 0.76829616 0.12073474 0.65456506\n",
      " 0.08617522 0.39393245 0.64831793 0.4023767 ]\n",
      "2021-11-21 01:03:01,087 - pyswarms.single.global_best - INFO - Optimize for 200 iters with {'c1': 2, 'c2': 1.7, 'w': 0.5}\n"
     ]
    },
    {
     "name": "stdout",
     "output_type": "stream",
     "text": [
      "End Time:  1637456581.0790436\n",
      "Start Time:  1637456581.0790436\n"
     ]
    },
    {
     "name": "stderr",
     "output_type": "stream",
     "text": [
      "pyswarms.single.global_best: 100%|██████████████████████████████████████████████████████████|200/200, best_cost=1.71e+5\n",
      "2021-11-21 01:03:01,908 - pyswarms.single.global_best - INFO - Optimization finished | best cost: 170930.47031020926, best pos: [0.64831793 0.4023767  0.12073473 0.65456508 0.80954198 0.76829616\n",
      " 0.08617522 0.39393244 0.5425991  0.52992577]\n",
      "2021-11-21 01:03:01,916 - pyswarms.single.global_best - INFO - Optimize for 250 iters with {'c1': 2, 'c2': 2, 'w': 0.9}\n"
     ]
    },
    {
     "name": "stdout",
     "output_type": "stream",
     "text": [
      "End Time:  1637456581.9081774\n",
      "Start Time:  1637456581.9081774\n"
     ]
    },
    {
     "name": "stderr",
     "output_type": "stream",
     "text": [
      "pyswarms.single.global_best: 100%|██████████████████████████████████████████████████████████|250/250, best_cost=5.47e+5\n",
      "2021-11-21 01:03:02,799 - pyswarms.single.global_best - INFO - Optimization finished | best cost: 546539.7826714261, best pos: [0.52232904 0.46034013 0.59743869 0.38992938 0.0584871  0.47322876\n",
      " 0.45362267 0.55740249 0.94075293 0.75605978]\n",
      "2021-11-21 01:03:02,807 - pyswarms.single.global_best - INFO - Optimize for 200 iters with {'c1': 2, 'c2': 2, 'w': 0.9}\n"
     ]
    },
    {
     "name": "stdout",
     "output_type": "stream",
     "text": [
      "End Time:  1637456582.7998097\n",
      "Start Time:  1637456582.7998097\n"
     ]
    },
    {
     "name": "stderr",
     "output_type": "stream",
     "text": [
      "pyswarms.single.global_best: 100%|██████████████████████████████████████████████████████████|200/200, best_cost=4.52e+5\n",
      "2021-11-21 01:03:03,599 - pyswarms.single.global_best - INFO - Optimization finished | best cost: 451623.5004980182, best pos: [0.63121827 0.41081209 0.18659658 0.98665451 0.91346703 0.75711576\n",
      " 0.13581464 3.19212665 0.18008311 0.41116864]\n",
      "2021-11-21 01:03:03,607 - pyswarms.single.global_best - INFO - Optimize for 250 iters with {'c1': 2, 'c2': 2, 'w': 0.5}\n"
     ]
    },
    {
     "name": "stdout",
     "output_type": "stream",
     "text": [
      "End Time:  1637456583.5992756\n",
      "Start Time:  1637456583.5992756\n"
     ]
    },
    {
     "name": "stderr",
     "output_type": "stream",
     "text": [
      "pyswarms.single.global_best: 100%|███████████████████████████████████████████████████████████|250/250, best_cost=2.3e+5\n",
      "2021-11-21 01:03:04,458 - pyswarms.single.global_best - INFO - Optimization finished | best cost: 230131.02416022608, best pos: [ 5.42599105e-01  5.29925775e-01  8.61753342e-02  3.93932606e-01\n",
      "  3.73512531e+02 -2.33845743e+05  8.09541979e-01  7.68296166e-01\n",
      "  6.48317925e-01  4.02376701e-01]\n",
      "2021-11-21 01:03:04,458 - pyswarms.single.global_best - INFO - Optimize for 200 iters with {'c1': 2, 'c2': 2, 'w': 0.5}\n"
     ]
    },
    {
     "name": "stdout",
     "output_type": "stream",
     "text": [
      "End Time:  1637456584.4589145\n",
      "Start Time:  1637456584.4589145\n"
     ]
    },
    {
     "name": "stderr",
     "output_type": "stream",
     "text": [
      "pyswarms.single.global_best: 100%|██████████████████████████████████████████████████████████|200/200, best_cost=1.71e+5\n",
      "2021-11-21 01:03:05,290 - pyswarms.single.global_best - INFO - Optimization finished | best cost: 170932.9390197469, best pos: [0.1207359  0.6545652  0.0861767  0.39393456 0.80954234 0.76829668\n",
      " 0.5425988  0.52992531 0.64831785 0.40237633]\n",
      "2021-11-21 01:03:05,298 - pyswarms.single.global_best - INFO - Optimize for 250 iters with {'c1': 1.9, 'c2': 1.7, 'w': 0.9}\n"
     ]
    },
    {
     "name": "stdout",
     "output_type": "stream",
     "text": [
      "End Time:  1637456585.2903574\n",
      "Start Time:  1637456585.2903574\n"
     ]
    },
    {
     "name": "stderr",
     "output_type": "stream",
     "text": [
      "pyswarms.single.global_best: 100%|██████████████████████████████████████████████████████████|250/250, best_cost=4.82e+5\n",
      "2021-11-21 01:03:06,129 - pyswarms.single.global_best - INFO - Optimization finished | best cost: 481953.052157233, best pos: [ 0.549343    0.61267278  0.85677591 -1.0565367   0.72006293  0.86456484\n",
      "  0.63070656  0.38522058  0.2546404   0.58730518]\n",
      "2021-11-21 01:03:06,137 - pyswarms.single.global_best - INFO - Optimize for 200 iters with {'c1': 1.9, 'c2': 1.7, 'w': 0.9}\n"
     ]
    },
    {
     "name": "stdout",
     "output_type": "stream",
     "text": [
      "End Time:  1637456586.1297965\n",
      "Start Time:  1637456586.1297965\n"
     ]
    },
    {
     "name": "stderr",
     "output_type": "stream",
     "text": [
      "pyswarms.single.global_best: 100%|██████████████████████████████████████████████████████████|200/200, best_cost=3.61e+5\n",
      "2021-11-21 01:03:06,909 - pyswarms.single.global_best - INFO - Optimization finished | best cost: 360825.07565252425, best pos: [0.63693645 0.39082204 0.73935275 0.84784649 0.14102864 0.59095832\n",
      " 0.50762528 0.50668576 0.34445285 0.04537007]\n",
      "2021-11-21 01:03:06,917 - pyswarms.single.global_best - INFO - Optimize for 250 iters with {'c1': 1.9, 'c2': 1.7, 'w': 0.5}\n"
     ]
    },
    {
     "name": "stdout",
     "output_type": "stream",
     "text": [
      "End Time:  1637456586.9175398\n",
      "Start Time:  1637456586.9175398\n"
     ]
    },
    {
     "name": "stderr",
     "output_type": "stream",
     "text": [
      "pyswarms.single.global_best: 100%|██████████████████████████████████████████████████████████|250/250, best_cost=1.71e+5\n",
      "2021-11-21 01:03:07,876 - pyswarms.single.global_best - INFO - Optimization finished | best cost: 170930.4639012369, best pos: [0.5425991  0.52992577 0.12073474 0.65456506 0.08617522 0.39393245\n",
      " 0.80954198 0.76829616 0.64831793 0.4023767 ]\n",
      "2021-11-21 01:03:07,876 - pyswarms.single.global_best - INFO - Optimize for 200 iters with {'c1': 1.9, 'c2': 1.7, 'w': 0.5}\n"
     ]
    },
    {
     "name": "stdout",
     "output_type": "stream",
     "text": [
      "End Time:  1637456587.8764682\n",
      "Start Time:  1637456587.8764682\n"
     ]
    },
    {
     "name": "stderr",
     "output_type": "stream",
     "text": [
      "pyswarms.single.global_best: 100%|██████████████████████████████████████████████████████████|200/200, best_cost=2.45e+5\n",
      "2021-11-21 01:03:08,632 - pyswarms.single.global_best - INFO - Optimization finished | best cost: 244800.5670166913, best pos: [0.6483283  0.40240027 0.09555374 0.63284205 0.28373684 0.14655671\n",
      " 0.88279369 0.989255   0.80955794 0.7682848 ]\n",
      "2021-11-21 01:03:08,640 - pyswarms.single.global_best - INFO - Optimize for 250 iters with {'c1': 1.9, 'c2': 2, 'w': 0.9}\n"
     ]
    },
    {
     "name": "stdout",
     "output_type": "stream",
     "text": [
      "End Time:  1637456588.6321938\n",
      "Start Time:  1637456588.6321938\n"
     ]
    },
    {
     "name": "stderr",
     "output_type": "stream",
     "text": [
      "pyswarms.single.global_best: 100%|██████████████████████████████████████████████████████████|250/250, best_cost=5.03e+5\n",
      "2021-11-21 01:03:09,463 - pyswarms.single.global_best - INFO - Optimization finished | best cost: 502869.29734058876, best pos: [0.34651982 0.7448684  0.67938975 0.46134308 0.61100922 0.40840906\n",
      " 0.20693159 0.18386522 0.89006444 0.86265302]\n",
      "2021-11-21 01:03:09,471 - pyswarms.single.global_best - INFO - Optimize for 200 iters with {'c1': 1.9, 'c2': 2, 'w': 0.9}\n"
     ]
    },
    {
     "name": "stdout",
     "output_type": "stream",
     "text": [
      "End Time:  1637456589.4636374\n",
      "Start Time:  1637456589.4636374\n"
     ]
    },
    {
     "name": "stderr",
     "output_type": "stream",
     "text": [
      "pyswarms.single.global_best: 100%|██████████████████████████████████████████████████████████|200/200, best_cost=4.31e+5\n",
      "2021-11-21 01:03:10,231 - pyswarms.single.global_best - INFO - Optimization finished | best cost: 430686.90900057903, best pos: [1.37989342 1.0645122  0.76144346 0.84050854 0.64653241 0.4116874\n",
      " 0.67119323 0.64442267 0.10030542 0.56300743]\n",
      "2021-11-21 01:03:10,231 - pyswarms.single.global_best - INFO - Optimize for 250 iters with {'c1': 1.9, 'c2': 2, 'w': 0.5}\n"
     ]
    },
    {
     "name": "stdout",
     "output_type": "stream",
     "text": [
      "End Time:  1637456590.231126\n",
      "Start Time:  1637456590.231126\n"
     ]
    },
    {
     "name": "stderr",
     "output_type": "stream",
     "text": [
      "pyswarms.single.global_best: 100%|██████████████████████████████████████████████████████████|250/250, best_cost=1.71e+5\n",
      "2021-11-21 01:03:11,059 - pyswarms.single.global_best - INFO - Optimization finished | best cost: 170930.46733431588, best pos: [0.08617522 0.39393245 0.5425991  0.52992577 0.12073475 0.65456507\n",
      " 0.80954198 0.76829616 0.64831793 0.4023767 ]\n",
      "2021-11-21 01:03:11,059 - pyswarms.single.global_best - INFO - Optimize for 200 iters with {'c1': 1.9, 'c2': 2, 'w': 0.5}\n"
     ]
    },
    {
     "name": "stdout",
     "output_type": "stream",
     "text": [
      "End Time:  1637456591.0594404\n",
      "Start Time:  1637456591.0594404\n"
     ]
    },
    {
     "name": "stderr",
     "output_type": "stream",
     "text": [
      "pyswarms.single.global_best: 100%|██████████████████████████████████████████████████████████|200/200, best_cost=1.71e+5\n",
      "2021-11-21 01:03:11,866 - pyswarms.single.global_best - INFO - Optimization finished | best cost: 170933.8284787951, best pos: [0.8095426  0.76829835 0.12073008 0.65456961 0.54259917 0.52992554\n",
      " 0.08617637 0.39393288 0.64831833 0.4023769 ]\n",
      "2021-11-21 01:03:11,874 - pyswarms.single.global_best - INFO - Optimize for 250 iters with {'c1': 2, 'c2': 1.7, 'w': 0.9}\n"
     ]
    },
    {
     "name": "stdout",
     "output_type": "stream",
     "text": [
      "End Time:  1637456591.8668985\n",
      "Start Time:  1637456591.8668985\n"
     ]
    },
    {
     "name": "stderr",
     "output_type": "stream",
     "text": [
      "pyswarms.single.global_best: 100%|██████████████████████████████████████████████████████████|250/250, best_cost=5.44e+5\n",
      "2021-11-21 01:03:12,726 - pyswarms.single.global_best - INFO - Optimization finished | best cost: 544358.2867291765, best pos: [0.84065507 0.75067509 0.84352596 0.41866882 0.52457114 0.75522809\n",
      " 0.74619031 0.3256768  0.65211337 0.4160296 ]\n",
      "2021-11-21 01:03:12,726 - pyswarms.single.global_best - INFO - Optimize for 200 iters with {'c1': 2, 'c2': 1.7, 'w': 0.9}\n"
     ]
    },
    {
     "name": "stdout",
     "output_type": "stream",
     "text": [
      "End Time:  1637456592.726557\n",
      "Start Time:  1637456592.726557\n"
     ]
    },
    {
     "name": "stderr",
     "output_type": "stream",
     "text": [
      "pyswarms.single.global_best: 100%|██████████████████████████████████████████████████████████|200/200, best_cost=4.89e+5\n",
      "2021-11-21 01:03:13,506 - pyswarms.single.global_best - INFO - Optimization finished | best cost: 488526.07227737195, best pos: [0.60344949 0.46221413 0.70667048 0.22902587 0.6807926  0.41986941\n",
      " 0.20646675 0.9461693  0.77812879 0.8018171 ]\n",
      "2021-11-21 01:03:13,514 - pyswarms.single.global_best - INFO - Optimize for 250 iters with {'c1': 2, 'c2': 1.7, 'w': 0.5}\n"
     ]
    },
    {
     "name": "stdout",
     "output_type": "stream",
     "text": [
      "End Time:  1637456593.514387\n",
      "Start Time:  1637456593.514387\n"
     ]
    },
    {
     "name": "stderr",
     "output_type": "stream",
     "text": [
      "pyswarms.single.global_best: 100%|██████████████████████████████████████████████████████████|250/250, best_cost=1.53e+5\n",
      "2021-11-21 01:03:14,366 - pyswarms.single.global_best - INFO - Optimization finished | best cost: 152666.63433509393, best pos: [0.80954198 0.76829616 0.5425991  0.52992577 0.88256928 0.98920928\n",
      " 0.64831793 0.4023767  0.12073474 0.65456506]\n",
      "2021-11-21 01:03:14,366 - pyswarms.single.global_best - INFO - Optimize for 200 iters with {'c1': 2, 'c2': 1.7, 'w': 0.5}\n"
     ]
    },
    {
     "name": "stdout",
     "output_type": "stream",
     "text": [
      "End Time:  1637456594.3660553\n",
      "Start Time:  1637456594.3660553\n"
     ]
    },
    {
     "name": "stderr",
     "output_type": "stream",
     "text": [
      "pyswarms.single.global_best: 100%|███████████████████████████████████████████████████████████|200/200, best_cost=1.5e+5\n",
      "2021-11-21 01:03:15,149 - pyswarms.single.global_best - INFO - Optimization finished | best cost: 150284.28345802517, best pos: [0.5425991  0.52992577 0.64831793 0.4023767  0.08617523 0.39393247\n",
      " 0.80954198 0.76829616 0.88256928 0.98920928]\n",
      "2021-11-21 01:03:15,149 - pyswarms.single.global_best - INFO - Optimize for 250 iters with {'c1': 2, 'c2': 2, 'w': 0.9}\n"
     ]
    },
    {
     "name": "stdout",
     "output_type": "stream",
     "text": [
      "End Time:  1637456595.1495316\n",
      "Start Time:  1637456595.1495316\n"
     ]
    },
    {
     "name": "stderr",
     "output_type": "stream",
     "text": [
      "pyswarms.single.global_best: 100%|██████████████████████████████████████████████████████████|250/250, best_cost=6.16e+5\n",
      "2021-11-21 01:03:16,010 - pyswarms.single.global_best - INFO - Optimization finished | best cost: 616208.0267321153, best pos: [0.67818539 0.99566049 0.09962434 0.70983626 0.28578473 0.74808121\n",
      " 0.29154147 0.6575743  0.62923224 0.41146079]\n",
      "2021-11-21 01:03:16,018 - pyswarms.single.global_best - INFO - Optimize for 200 iters with {'c1': 2, 'c2': 2, 'w': 0.9}\n"
     ]
    },
    {
     "name": "stdout",
     "output_type": "stream",
     "text": [
      "End Time:  1637456596.01047\n",
      "Start Time:  1637456596.01047\n"
     ]
    },
    {
     "name": "stderr",
     "output_type": "stream",
     "text": [
      "pyswarms.single.global_best: 100%|███████████████████████████████████████████████████████████|200/200, best_cost=4.4e+5\n",
      "2021-11-21 01:03:16,758 - pyswarms.single.global_best - INFO - Optimization finished | best cost: 440231.531302302, best pos: [0.74846098 0.73553425 0.78485573 0.03727625 0.30733216 0.18578186\n",
      " 0.5567568  0.57789325 0.66015525 0.41581248]\n",
      "2021-11-21 01:03:16,766 - pyswarms.single.global_best - INFO - Optimize for 250 iters with {'c1': 2, 'c2': 2, 'w': 0.5}\n"
     ]
    },
    {
     "name": "stdout",
     "output_type": "stream",
     "text": [
      "End Time:  1637456596.7581751\n",
      "Start Time:  1637456596.7581751\n"
     ]
    },
    {
     "name": "stderr",
     "output_type": "stream",
     "text": [
      "pyswarms.single.global_best: 100%|██████████████████████████████████████████████████████████|250/250, best_cost=1.71e+5\n",
      "2021-11-21 01:03:17,581 - pyswarms.single.global_best - INFO - Optimization finished | best cost: 170930.5935109775, best pos: [0.0861752  0.3939324  0.64831793 0.4023767  0.12073448 0.65456554\n",
      " 0.5425991  0.52992578 0.80954198 0.76829612]\n",
      "2021-11-21 01:03:17,589 - pyswarms.single.global_best - INFO - Optimize for 200 iters with {'c1': 2, 'c2': 2, 'w': 0.5}\n"
     ]
    },
    {
     "name": "stdout",
     "output_type": "stream",
     "text": [
      "End Time:  1637456597.5816243\n",
      "Start Time:  1637456597.5816243\n"
     ]
    },
    {
     "name": "stderr",
     "output_type": "stream",
     "text": [
      "pyswarms.single.global_best: 100%|███████████████████████████████████████████████████████████|200/200, best_cost=2.3e+5\n",
      "2021-11-21 01:03:18,321 - pyswarms.single.global_best - INFO - Optimization finished | best cost: 230131.1264226767, best pos: [ 5.42599107e-01  5.29925783e-01  8.61764723e-02  3.93933329e-01\n",
      " -1.76472399e+03  8.29895928e+00  8.09542011e-01  7.68296163e-01\n",
      "  6.48317932e-01  4.02376704e-01]\n",
      "2021-11-21 01:03:18,329 - pyswarms.single.global_best - INFO - Optimize for 250 iters with {'c1': 1.9, 'c2': 1.7, 'w': 0.9}\n"
     ]
    },
    {
     "name": "stdout",
     "output_type": "stream",
     "text": [
      "End Time:  1637456598.329472\n",
      "Start Time:  1637456598.329472\n"
     ]
    },
    {
     "name": "stderr",
     "output_type": "stream",
     "text": [
      "pyswarms.single.global_best: 100%|██████████████████████████████████████████████████████████|250/250, best_cost=4.69e+5\n",
      "2021-11-21 01:03:19,120 - pyswarms.single.global_best - INFO - Optimization finished | best cost: 469431.5757499958, best pos: [ 0.19518833  0.76509522  0.8137973   0.85618658  0.22928734  0.40703482\n",
      " -0.01741082  0.28737586  0.67751014  0.4002836 ]\n",
      "2021-11-21 01:03:19,120 - pyswarms.single.global_best - INFO - Optimize for 200 iters with {'c1': 1.9, 'c2': 1.7, 'w': 0.9}\n"
     ]
    },
    {
     "name": "stdout",
     "output_type": "stream",
     "text": [
      "End Time:  1637456599.1209407\n",
      "Start Time:  1637456599.1209407\n"
     ]
    },
    {
     "name": "stderr",
     "output_type": "stream",
     "text": [
      "pyswarms.single.global_best: 100%|██████████████████████████████████████████████████████████|200/200, best_cost=4.65e+5\n",
      "2021-11-21 01:03:19,912 - pyswarms.single.global_best - INFO - Optimization finished | best cost: 464757.94052883866, best pos: [ 0.83524278  0.85082051  0.63764404  0.41114751 -0.13657762  0.74031423\n",
      " -0.15165065  0.37073295  0.97495789  0.13970494]\n",
      "2021-11-21 01:03:19,912 - pyswarms.single.global_best - INFO - Optimize for 250 iters with {'c1': 1.9, 'c2': 1.7, 'w': 0.5}\n"
     ]
    },
    {
     "name": "stdout",
     "output_type": "stream",
     "text": [
      "End Time:  1637456599.9124448\n",
      "Start Time:  1637456599.9124448\n"
     ]
    },
    {
     "name": "stderr",
     "output_type": "stream",
     "text": [
      "pyswarms.single.global_best: 100%|███████████████████████████████████████████████████████████|250/250, best_cost=1.5e+5\n",
      "2021-11-21 01:03:20,780 - pyswarms.single.global_best - INFO - Optimization finished | best cost: 150284.27950805367, best pos: [0.88256928 0.98920928 0.80954198 0.76829616 0.5425991  0.52992577\n",
      " 0.08617522 0.39393245 0.64831793 0.4023767 ]\n",
      "2021-11-21 01:03:20,780 - pyswarms.single.global_best - INFO - Optimize for 200 iters with {'c1': 1.9, 'c2': 1.7, 'w': 0.5}\n"
     ]
    },
    {
     "name": "stdout",
     "output_type": "stream",
     "text": [
      "End Time:  1637456600.7800655\n",
      "Start Time:  1637456600.7800655\n"
     ]
    },
    {
     "name": "stderr",
     "output_type": "stream",
     "text": [
      "pyswarms.single.global_best: 100%|███████████████████████████████████████████████████████████|200/200, best_cost=1.5e+5\n",
      "2021-11-21 01:03:21,539 - pyswarms.single.global_best - INFO - Optimization finished | best cost: 150284.28182516794, best pos: [0.80954198 0.76829616 0.88256928 0.98920928 0.5425991  0.52992577\n",
      " 0.08617524 0.39393247 0.64831793 0.4023767 ]\n",
      "2021-11-21 01:03:21,547 - pyswarms.single.global_best - INFO - Optimize for 250 iters with {'c1': 1.9, 'c2': 2, 'w': 0.9}\n"
     ]
    },
    {
     "name": "stdout",
     "output_type": "stream",
     "text": [
      "End Time:  1637456601.5475514\n",
      "Start Time:  1637456601.5475514\n"
     ]
    },
    {
     "name": "stderr",
     "output_type": "stream",
     "text": [
      "pyswarms.single.global_best: 100%|██████████████████████████████████████████████████████████|250/250, best_cost=5.17e+5\n",
      "2021-11-21 01:03:22,383 - pyswarms.single.global_best - INFO - Optimization finished | best cost: 517262.8729417303, best pos: [0.76059414 0.15546323 0.13704419 0.57184892 0.23108636 0.31398035\n",
      " 0.67788066 0.38921632 0.71910504 0.80636484]\n",
      "2021-11-21 01:03:22,391 - pyswarms.single.global_best - INFO - Optimize for 200 iters with {'c1': 1.9, 'c2': 2, 'w': 0.9}\n"
     ]
    },
    {
     "name": "stdout",
     "output_type": "stream",
     "text": [
      "End Time:  1637456602.3833532\n",
      "Start Time:  1637456602.3833532\n"
     ]
    },
    {
     "name": "stderr",
     "output_type": "stream",
     "text": [
      "pyswarms.single.global_best: 100%|███████████████████████████████████████████████████████████|200/200, best_cost=4.6e+5\n",
      "2021-11-21 01:03:23,166 - pyswarms.single.global_best - INFO - Optimization finished | best cost: 459814.9254061605, best pos: [0.83963463 0.80796193 0.66296088 0.37948342 0.04508317 0.38637699\n",
      " 0.34614365 0.58408383 0.19507748 0.32421359]\n",
      "2021-11-21 01:03:23,174 - pyswarms.single.global_best - INFO - Optimize for 250 iters with {'c1': 1.9, 'c2': 2, 'w': 0.5}\n"
     ]
    },
    {
     "name": "stdout",
     "output_type": "stream",
     "text": [
      "End Time:  1637456603.1668293\n",
      "Start Time:  1637456603.1668293\n"
     ]
    },
    {
     "name": "stderr",
     "output_type": "stream",
     "text": [
      "pyswarms.single.global_best: 100%|███████████████████████████████████████████████████████████|250/250, best_cost=1.5e+5\n",
      "2021-11-21 01:03:23,998 - pyswarms.single.global_best - INFO - Optimization finished | best cost: 150284.3397534845, best pos: [0.88256923 0.98920928 0.5425991  0.5299258  0.08617526 0.39393263\n",
      " 0.80954198 0.76829617 0.64831792 0.40237671]\n",
      "2021-11-21 01:03:24,006 - pyswarms.single.global_best - INFO - Optimize for 200 iters with {'c1': 1.9, 'c2': 2, 'w': 0.5}\n"
     ]
    },
    {
     "name": "stdout",
     "output_type": "stream",
     "text": [
      "End Time:  1637456603.9982738\n",
      "Start Time:  1637456603.9982738\n"
     ]
    },
    {
     "name": "stderr",
     "output_type": "stream",
     "text": [
      "pyswarms.single.global_best: 100%|██████████████████████████████████████████████████████████|200/200, best_cost=1.71e+5\n",
      "2021-11-21 01:03:24,802 - pyswarms.single.global_best - INFO - Optimization finished | best cost: 171065.6961181298, best pos: [0.64832602 0.40237622 0.80956852 0.76833999 0.08605939 0.39366374\n",
      " 0.12052294 0.6545849  0.54257736 0.529934  ]\n",
      "2021-11-21 01:03:24,809 - pyswarms.single.global_best - INFO - Optimize for 250 iters with {'c1': 2, 'c2': 1.7, 'w': 0.9}\n"
     ]
    },
    {
     "name": "stdout",
     "output_type": "stream",
     "text": [
      "End Time:  1637456604.8020005\n",
      "Start Time:  1637456604.8020005\n"
     ]
    },
    {
     "name": "stderr",
     "output_type": "stream",
     "text": [
      "pyswarms.single.global_best: 100%|███████████████████████████████████████████████████████████|250/250, best_cost=5.6e+5\n",
      "2021-11-21 01:03:25,625 - pyswarms.single.global_best - INFO - Optimization finished | best cost: 559714.6802797342, best pos: [0.34885617 0.91678782 0.36350235 0.15042744 0.71572976 0.73657591\n",
      " 0.65510043 0.43627247 0.34225107 0.18396278]\n",
      "2021-11-21 01:03:25,633 - pyswarms.single.global_best - INFO - Optimize for 200 iters with {'c1': 2, 'c2': 1.7, 'w': 0.9}\n"
     ]
    },
    {
     "name": "stdout",
     "output_type": "stream",
     "text": [
      "End Time:  1637456605.6254497\n",
      "Start Time:  1637456605.6254497\n"
     ]
    },
    {
     "name": "stderr",
     "output_type": "stream",
     "text": [
      "pyswarms.single.global_best: 100%|██████████████████████████████████████████████████████████|200/200, best_cost=4.78e+5\n",
      "2021-11-21 01:03:26,381 - pyswarms.single.global_best - INFO - Optimization finished | best cost: 478033.60543472745, best pos: [-0.37783069  0.89627566  0.12455641  0.39130776  0.84944712  0.79501464\n",
      "  1.27748743  0.34934046  0.6656979   0.43264237]\n",
      "2021-11-21 01:03:26,381 - pyswarms.single.global_best - INFO - Optimize for 250 iters with {'c1': 2, 'c2': 1.7, 'w': 0.5}\n"
     ]
    },
    {
     "name": "stdout",
     "output_type": "stream",
     "text": [
      "End Time:  1637456606.3812747\n",
      "Start Time:  1637456606.3812747\n"
     ]
    },
    {
     "name": "stderr",
     "output_type": "stream",
     "text": [
      "pyswarms.single.global_best: 100%|██████████████████████████████████████████████████████████|250/250, best_cost=1.53e+5\n",
      "2021-11-21 01:03:27,196 - pyswarms.single.global_best - INFO - Optimization finished | best cost: 152666.63469298914, best pos: [0.80954198 0.76829616 0.5425991  0.52992577 0.88256928 0.98920928\n",
      " 0.64831793 0.4023767  0.12073474 0.65456506]\n",
      "2021-11-21 01:03:27,204 - pyswarms.single.global_best - INFO - Optimize for 200 iters with {'c1': 2, 'c2': 1.7, 'w': 0.5}\n"
     ]
    },
    {
     "name": "stdout",
     "output_type": "stream",
     "text": [
      "End Time:  1637456607.1967282\n",
      "Start Time:  1637456607.2047246\n"
     ]
    },
    {
     "name": "stderr",
     "output_type": "stream",
     "text": [
      "pyswarms.single.global_best: 100%|██████████████████████████████████████████████████████████|200/200, best_cost=1.71e+5\n",
      "2021-11-21 01:03:27,956 - pyswarms.single.global_best - INFO - Optimization finished | best cost: 170930.46737523406, best pos: [0.64831793 0.4023767  0.5425991  0.52992577 0.80954198 0.76829616\n",
      " 0.12073474 0.65456506 0.08617523 0.39393244]\n",
      "2021-11-21 01:03:27,956 - pyswarms.single.global_best - INFO - Optimize for 250 iters with {'c1': 2, 'c2': 2, 'w': 0.9}\n"
     ]
    },
    {
     "name": "stdout",
     "output_type": "stream",
     "text": [
      "End Time:  1637456607.9562213\n",
      "Start Time:  1637456607.9562213\n"
     ]
    },
    {
     "name": "stderr",
     "output_type": "stream",
     "text": [
      "pyswarms.single.global_best: 100%|██████████████████████████████████████████████████████████|250/250, best_cost=5.56e+5\n",
      "2021-11-21 01:03:28,759 - pyswarms.single.global_best - INFO - Optimization finished | best cost: 556488.7140660471, best pos: [0.11913358 0.75537662 0.62764197 0.48495584 0.1292433  0.57609877\n",
      " 0.97984602 1.8946141  0.80024351 0.81312521]\n",
      "2021-11-21 01:03:28,767 - pyswarms.single.global_best - INFO - Optimize for 200 iters with {'c1': 2, 'c2': 2, 'w': 0.9}\n"
     ]
    },
    {
     "name": "stdout",
     "output_type": "stream",
     "text": [
      "End Time:  1637456608.7599387\n",
      "Start Time:  1637456608.7599387\n"
     ]
    },
    {
     "name": "stderr",
     "output_type": "stream",
     "text": [
      "pyswarms.single.global_best: 100%|██████████████████████████████████████████████████████████|200/200, best_cost=5.96e+5\n",
      "2021-11-21 01:03:29,559 - pyswarms.single.global_best - INFO - Optimization finished | best cost: 595808.3539353051, best pos: [0.74653748 0.55833942 0.35432886 0.62040678 0.40292184 0.86533194\n",
      " 0.8662797  0.68242963 0.63705421 0.44236292]\n",
      "2021-11-21 01:03:29,559 - pyswarms.single.global_best - INFO - Optimize for 250 iters with {'c1': 2, 'c2': 2, 'w': 0.5}\n"
     ]
    },
    {
     "name": "stdout",
     "output_type": "stream",
     "text": [
      "End Time:  1637456609.5594044\n",
      "Start Time:  1637456609.5594044\n"
     ]
    },
    {
     "name": "stderr",
     "output_type": "stream",
     "text": [
      "pyswarms.single.global_best: 100%|███████████████████████████████████████████████████████████|250/250, best_cost=1.5e+5\n",
      "2021-11-21 01:03:30,419 - pyswarms.single.global_best - INFO - Optimization finished | best cost: 150284.31975885987, best pos: [0.80954198 0.76829616 0.88256928 0.98920927 0.5425991  0.52992577\n",
      " 0.64831793 0.4023767  0.08617548 0.39393306]\n",
      "2021-11-21 01:03:30,427 - pyswarms.single.global_best - INFO - Optimize for 200 iters with {'c1': 2, 'c2': 2, 'w': 0.5}\n"
     ]
    },
    {
     "name": "stdout",
     "output_type": "stream",
     "text": [
      "End Time:  1637456610.4270854\n",
      "Start Time:  1637456610.4270854\n"
     ]
    },
    {
     "name": "stderr",
     "output_type": "stream",
     "text": [
      "pyswarms.single.global_best: 100%|███████████████████████████████████████████████████████████|200/200, best_cost=1.5e+5\n",
      "2021-11-21 01:03:31,250 - pyswarms.single.global_best - INFO - Optimization finished | best cost: 150285.80006902487, best pos: [0.80954133 0.76829595 0.648318   0.40237685 0.54259877 0.52992566\n",
      " 0.08617798 0.39393345 0.88256917 0.9892096 ]\n",
      "2021-11-21 01:03:31,258 - pyswarms.single.global_best - INFO - Optimize for 250 iters with {'c1': 1.9, 'c2': 1.7, 'w': 0.9}\n"
     ]
    },
    {
     "name": "stdout",
     "output_type": "stream",
     "text": [
      "End Time:  1637456611.2505343\n",
      "Start Time:  1637456611.2505343\n"
     ]
    },
    {
     "name": "stderr",
     "output_type": "stream",
     "text": [
      "pyswarms.single.global_best: 100%|██████████████████████████████████████████████████████████|250/250, best_cost=4.95e+5\n",
      "2021-11-21 01:03:32,122 - pyswarms.single.global_best - INFO - Optimization finished | best cost: 494604.34287160134, best pos: [0.81986105 0.8040144  0.66479772 0.42179235 0.09638534 1.91218832\n",
      " 0.06093699 0.24410917 0.66954873 1.86386445]\n",
      "2021-11-21 01:03:32,130 - pyswarms.single.global_best - INFO - Optimize for 200 iters with {'c1': 1.9, 'c2': 1.7, 'w': 0.9}\n"
     ]
    },
    {
     "name": "stdout",
     "output_type": "stream",
     "text": [
      "End Time:  1637456612.1223714\n",
      "Start Time:  1637456612.1223714\n"
     ]
    },
    {
     "name": "stderr",
     "output_type": "stream",
     "text": [
      "pyswarms.single.global_best: 100%|██████████████████████████████████████████████████████████|200/200, best_cost=4.55e+5\n",
      "2021-11-21 01:03:32,926 - pyswarms.single.global_best - INFO - Optimization finished | best cost: 454956.6067867214, best pos: [0.41496124 0.97955981 0.64326579 0.40216383 0.6424747  0.1511158\n",
      " 0.73332877 0.88973009 0.56258748 0.48597304]\n",
      "2021-11-21 01:03:32,934 - pyswarms.single.global_best - INFO - Optimize for 250 iters with {'c1': 1.9, 'c2': 1.7, 'w': 0.5}\n"
     ]
    },
    {
     "name": "stdout",
     "output_type": "stream",
     "text": [
      "End Time:  1637456612.9268637\n",
      "Start Time:  1637456612.9268637\n"
     ]
    },
    {
     "name": "stderr",
     "output_type": "stream",
     "text": [
      "pyswarms.single.global_best: 100%|███████████████████████████████████████████████████████████|250/250, best_cost=1.5e+5\n",
      "2021-11-21 01:03:33,755 - pyswarms.single.global_best - INFO - Optimization finished | best cost: 150284.27950874972, best pos: [0.64831793 0.4023767  0.08617522 0.39393245 0.5425991  0.52992577\n",
      " 0.88256928 0.98920928 0.80954198 0.76829616]\n",
      "2021-11-21 01:03:33,763 - pyswarms.single.global_best - INFO - Optimize for 200 iters with {'c1': 1.9, 'c2': 1.7, 'w': 0.5}\n"
     ]
    },
    {
     "name": "stdout",
     "output_type": "stream",
     "text": [
      "End Time:  1637456613.7554672\n",
      "Start Time:  1637456613.7554672\n"
     ]
    },
    {
     "name": "stderr",
     "output_type": "stream",
     "text": [
      "pyswarms.single.global_best: 100%|███████████████████████████████████████████████████████████|200/200, best_cost=2.3e+5\n",
      "2021-11-21 01:03:34,535 - pyswarms.single.global_best - INFO - Optimization finished | best cost: 230131.00279470222, best pos: [0.64831793 0.4023767  0.80954198 0.76829616 1.60135533 1.34996036\n",
      " 0.5425991  0.52992577 0.08617522 0.39393245]\n",
      "2021-11-21 01:03:34,543 - pyswarms.single.global_best - INFO - Optimize for 250 iters with {'c1': 1.9, 'c2': 2, 'w': 0.9}\n"
     ]
    },
    {
     "name": "stdout",
     "output_type": "stream",
     "text": [
      "End Time:  1637456614.5352502\n",
      "Start Time:  1637456614.5352502\n"
     ]
    },
    {
     "name": "stderr",
     "output_type": "stream",
     "text": [
      "pyswarms.single.global_best: 100%|██████████████████████████████████████████████████████████|250/250, best_cost=5.76e+5\n",
      "2021-11-21 01:03:35,390 - pyswarms.single.global_best - INFO - Optimization finished | best cost: 576433.339222799, best pos: [-0.03483772  1.5276896   0.78930336  0.73990742 -0.23527625  0.29875265\n",
      "  0.66900643  0.41133778 -0.12814827 -0.2060479 ]\n",
      "2021-11-21 01:03:35,398 - pyswarms.single.global_best - INFO - Optimize for 200 iters with {'c1': 1.9, 'c2': 2, 'w': 0.9}\n"
     ]
    },
    {
     "name": "stdout",
     "output_type": "stream",
     "text": [
      "End Time:  1637456615.3906467\n",
      "Start Time:  1637456615.3906467\n"
     ]
    },
    {
     "name": "stderr",
     "output_type": "stream",
     "text": [
      "pyswarms.single.global_best: 100%|██████████████████████████████████████████████████████████|200/200, best_cost=4.72e+5\n",
      "2021-11-21 01:03:36,166 - pyswarms.single.global_best - INFO - Optimization finished | best cost: 472086.0020979518, best pos: [ 0.6479694   0.40715937  0.06410931  0.62829975  0.73640725  0.90332901\n",
      " -0.10686713  0.06522408 -0.24035168 -1.41048337]\n",
      "2021-11-21 01:03:36,166 - pyswarms.single.global_best - INFO - Optimize for 250 iters with {'c1': 1.9, 'c2': 2, 'w': 0.5}\n"
     ]
    },
    {
     "name": "stdout",
     "output_type": "stream",
     "text": [
      "End Time:  1637456616.1661277\n",
      "Start Time:  1637456616.1661277\n"
     ]
    },
    {
     "name": "stderr",
     "output_type": "stream",
     "text": [
      "pyswarms.single.global_best: 100%|██████████████████████████████████████████████████████████|250/250, best_cost=1.71e+5\n",
      "2021-11-21 01:03:37,025 - pyswarms.single.global_best - INFO - Optimization finished | best cost: 170930.47216355448, best pos: [0.08617522 0.39393244 0.64831793 0.4023767  0.80954198 0.76829616\n",
      " 0.12073475 0.65456511 0.5425991  0.52992577]\n",
      "2021-11-21 01:03:37,033 - pyswarms.single.global_best - INFO - Optimize for 200 iters with {'c1': 1.9, 'c2': 2, 'w': 0.5}\n"
     ]
    },
    {
     "name": "stdout",
     "output_type": "stream",
     "text": [
      "End Time:  1637456617.0257766\n",
      "Start Time:  1637456617.0257766\n"
     ]
    },
    {
     "name": "stderr",
     "output_type": "stream",
     "text": [
      "pyswarms.single.global_best: 100%|███████████████████████████████████████████████████████████|200/200, best_cost=1.5e+5\n",
      "2021-11-21 01:03:37,809 - pyswarms.single.global_best - INFO - Optimization finished | best cost: 150284.36745239465, best pos: [0.54259912 0.52992579 0.88256932 0.98920928 0.80954198 0.7682962\n",
      " 0.08617521 0.39393242 0.64831793 0.4023767 ]\n",
      "2021-11-21 01:03:37,817 - pyswarms.single.global_best - INFO - Optimize for 250 iters with {'c1': 2, 'c2': 1.7, 'w': 0.9}\n"
     ]
    },
    {
     "name": "stdout",
     "output_type": "stream",
     "text": [
      "End Time:  1637456617.8092513\n",
      "Start Time:  1637456617.8092513\n"
     ]
    },
    {
     "name": "stderr",
     "output_type": "stream",
     "text": [
      "pyswarms.single.global_best: 100%|██████████████████████████████████████████████████████████|250/250, best_cost=5.22e+5\n",
      "2021-11-21 01:03:38,653 - pyswarms.single.global_best - INFO - Optimization finished | best cost: 522326.7935691449, best pos: [1.11536833 2.51067395 0.67555132 0.39624683 0.90131285 0.73007676\n",
      " 0.11936234 0.2324565  0.56653937 0.6458593 ]\n",
      "2021-11-21 01:03:38,661 - pyswarms.single.global_best - INFO - Optimize for 200 iters with {'c1': 2, 'c2': 1.7, 'w': 0.9}\n"
     ]
    },
    {
     "name": "stdout",
     "output_type": "stream",
     "text": [
      "End Time:  1637456618.6615372\n",
      "Start Time:  1637456618.6615372\n"
     ]
    },
    {
     "name": "stderr",
     "output_type": "stream",
     "text": [
      "pyswarms.single.global_best: 100%|██████████████████████████████████████████████████████████|200/200, best_cost=4.21e+5\n",
      "2021-11-21 01:03:39,461 - pyswarms.single.global_best - INFO - Optimization finished | best cost: 421347.4524939375, best pos: [0.84879699 0.74107316 0.95414546 0.7577481  0.66232587 0.39950347\n",
      " 0.30709304 0.19635408 0.14349064 0.57240352]\n",
      "2021-11-21 01:03:39,468 - pyswarms.single.global_best - INFO - Optimize for 250 iters with {'c1': 2, 'c2': 1.7, 'w': 0.5}\n"
     ]
    },
    {
     "name": "stdout",
     "output_type": "stream",
     "text": [
      "End Time:  1637456619.4610012\n",
      "Start Time:  1637456619.4610012\n"
     ]
    },
    {
     "name": "stderr",
     "output_type": "stream",
     "text": [
      "pyswarms.single.global_best: 100%|███████████████████████████████████████████████████████████|250/250, best_cost=1.5e+5\n",
      "2021-11-21 01:03:40,304 - pyswarms.single.global_best - INFO - Optimization finished | best cost: 150284.27952805255, best pos: [0.64831793 0.4023767  0.80954198 0.76829616 0.88256928 0.98920928\n",
      " 0.08617522 0.39393245 0.5425991  0.52992577]\n",
      "2021-11-21 01:03:40,312 - pyswarms.single.global_best - INFO - Optimize for 200 iters with {'c1': 2, 'c2': 1.7, 'w': 0.5}\n"
     ]
    },
    {
     "name": "stdout",
     "output_type": "stream",
     "text": [
      "End Time:  1637456620.3046963\n",
      "Start Time:  1637456620.3046963\n"
     ]
    },
    {
     "name": "stderr",
     "output_type": "stream",
     "text": [
      "pyswarms.single.global_best: 100%|███████████████████████████████████████████████████████████|200/200, best_cost=1.5e+5\n",
      "2021-11-21 01:03:41,096 - pyswarms.single.global_best - INFO - Optimization finished | best cost: 150284.28290524843, best pos: [0.64831793 0.4023767  0.88256928 0.98920928 0.08617523 0.39393246\n",
      " 0.80954198 0.76829616 0.5425991  0.52992577]\n",
      "2021-11-21 01:03:41,096 - pyswarms.single.global_best - INFO - Optimize for 250 iters with {'c1': 2, 'c2': 2, 'w': 0.9}\n"
     ]
    },
    {
     "name": "stdout",
     "output_type": "stream",
     "text": [
      "End Time:  1637456621.096166\n",
      "Start Time:  1637456621.096166\n"
     ]
    },
    {
     "name": "stderr",
     "output_type": "stream",
     "text": [
      "pyswarms.single.global_best: 100%|██████████████████████████████████████████████████████████|250/250, best_cost=5.11e+5\n",
      "2021-11-21 01:03:41,943 - pyswarms.single.global_best - INFO - Optimization finished | best cost: 511145.71524812595, best pos: [-0.09179506  0.51788712  0.62698578  0.45579246  0.19513776  0.79862617\n",
      " -0.52807784  0.10947631  0.78741846  0.81817954]\n",
      "2021-11-21 01:03:41,951 - pyswarms.single.global_best - INFO - Optimize for 200 iters with {'c1': 2, 'c2': 2, 'w': 0.9}\n"
     ]
    },
    {
     "name": "stdout",
     "output_type": "stream",
     "text": [
      "End Time:  1637456621.9435995\n",
      "Start Time:  1637456621.9435995\n"
     ]
    },
    {
     "name": "stderr",
     "output_type": "stream",
     "text": [
      "pyswarms.single.global_best: 100%|██████████████████████████████████████████████████████████|200/200, best_cost=5.66e+5\n",
      "2021-11-21 01:03:42,723 - pyswarms.single.global_best - INFO - Optimization finished | best cost: 566484.9530886183, best pos: [ 0.36996818  1.19391771  0.20817896  0.61431636  0.61252913  0.38214351\n",
      "  0.72214987  0.85025122  0.30860742 -5.21617429]\n",
      "2021-11-21 01:03:42,731 - pyswarms.single.global_best - INFO - Optimize for 250 iters with {'c1': 2, 'c2': 2, 'w': 0.5}\n"
     ]
    },
    {
     "name": "stdout",
     "output_type": "stream",
     "text": [
      "End Time:  1637456622.7233412\n",
      "Start Time:  1637456622.7233412\n"
     ]
    },
    {
     "name": "stderr",
     "output_type": "stream",
     "text": [
      "pyswarms.single.global_best: 100%|███████████████████████████████████████████████████████████|250/250, best_cost=1.5e+5\n",
      "2021-11-21 01:03:43,602 - pyswarms.single.global_best - INFO - Optimization finished | best cost: 150284.31916334407, best pos: [0.80954198 0.76829616 0.64831793 0.4023767  0.54259911 0.52992579\n",
      " 0.88256925 0.9892093  0.08617525 0.39393249]\n",
      "2021-11-21 01:03:43,610 - pyswarms.single.global_best - INFO - Optimize for 200 iters with {'c1': 2, 'c2': 2, 'w': 0.5}\n"
     ]
    },
    {
     "name": "stdout",
     "output_type": "stream",
     "text": [
      "End Time:  1637456623.6027539\n",
      "Start Time:  1637456623.6027539\n"
     ]
    },
    {
     "name": "stderr",
     "output_type": "stream",
     "text": [
      "pyswarms.single.global_best: 100%|███████████████████████████████████████████████████████████|200/200, best_cost=1.5e+5\n",
      "2021-11-21 01:03:44,374 - pyswarms.single.global_best - INFO - Optimization finished | best cost: 150304.07509498578, best pos: [0.88257109 0.98920555 0.54259902 0.52992511 0.80954664 0.76829085\n",
      " 0.08627804 0.39409335 0.64831813 0.40237469]\n",
      "2021-11-21 01:03:44,382 - pyswarms.single.global_best - INFO - Optimize for 250 iters with {'c1': 1.9, 'c2': 1.7, 'w': 0.9}\n"
     ]
    },
    {
     "name": "stdout",
     "output_type": "stream",
     "text": [
      "End Time:  1637456624.3825371\n",
      "Start Time:  1637456624.3825371\n"
     ]
    },
    {
     "name": "stderr",
     "output_type": "stream",
     "text": [
      "pyswarms.single.global_best: 100%|██████████████████████████████████████████████████████████|250/250, best_cost=5.24e+5\n",
      "2021-11-21 01:03:45,230 - pyswarms.single.global_best - INFO - Optimization finished | best cost: 524226.5169430863, best pos: [0.68741119 0.06085904 0.92692848 0.95626424 0.47678567 0.57698624\n",
      " 0.76275617 0.65336587 0.68531612 0.38634862]\n",
      "2021-11-21 01:03:45,238 - pyswarms.single.global_best - INFO - Optimize for 200 iters with {'c1': 1.9, 'c2': 1.7, 'w': 0.9}\n"
     ]
    },
    {
     "name": "stdout",
     "output_type": "stream",
     "text": [
      "End Time:  1637456625.2301896\n",
      "Start Time:  1637456625.2301896\n"
     ]
    },
    {
     "name": "stderr",
     "output_type": "stream",
     "text": [
      "pyswarms.single.global_best: 100%|██████████████████████████████████████████████████████████|200/200, best_cost=5.04e+5\n",
      "2021-11-21 01:03:46,005 - pyswarms.single.global_best - INFO - Optimization finished | best cost: 504461.11114154564, best pos: [ 0.44294481  0.36241608  0.63609695  0.37795341 -5.85023604  1.18291033\n",
      "  0.50249149  0.58546981  0.75818773  0.72514606]\n",
      "2021-11-21 01:03:46,013 - pyswarms.single.global_best - INFO - Optimize for 250 iters with {'c1': 1.9, 'c2': 1.7, 'w': 0.5}\n"
     ]
    },
    {
     "name": "stdout",
     "output_type": "stream",
     "text": [
      "End Time:  1637456626.0057514\n",
      "Start Time:  1637456626.0057514\n"
     ]
    },
    {
     "name": "stderr",
     "output_type": "stream",
     "text": [
      "pyswarms.single.global_best: 100%|███████████████████████████████████████████████████████████|250/250, best_cost=1.5e+5\n",
      "2021-11-21 01:03:46,857 - pyswarms.single.global_best - INFO - Optimization finished | best cost: 150284.27957441733, best pos: [0.88256928 0.98920928 0.64831793 0.4023767  0.5425991  0.52992577\n",
      " 0.80954198 0.76829616 0.08617523 0.39393245]\n",
      "2021-11-21 01:03:46,857 - pyswarms.single.global_best - INFO - Optimize for 200 iters with {'c1': 1.9, 'c2': 1.7, 'w': 0.5}\n"
     ]
    },
    {
     "name": "stdout",
     "output_type": "stream",
     "text": [
      "End Time:  1637456626.85737\n",
      "Start Time:  1637456626.85737\n"
     ]
    },
    {
     "name": "stderr",
     "output_type": "stream",
     "text": [
      "pyswarms.single.global_best: 100%|██████████████████████████████████████████████████████████|200/200, best_cost=1.71e+5\n",
      "2021-11-21 01:03:47,632 - pyswarms.single.global_best - INFO - Optimization finished | best cost: 170930.46442769357, best pos: [0.80954198 0.76829616 0.5425991  0.52992577 0.08617523 0.39393245\n",
      " 0.64831793 0.4023767  0.12073474 0.65456506]\n",
      "2021-11-21 01:03:47,632 - pyswarms.single.global_best - INFO - Optimize for 250 iters with {'c1': 1.9, 'c2': 2, 'w': 0.9}\n"
     ]
    },
    {
     "name": "stdout",
     "output_type": "stream",
     "text": [
      "End Time:  1637456627.63285\n",
      "Start Time:  1637456627.63285\n"
     ]
    },
    {
     "name": "stderr",
     "output_type": "stream",
     "text": [
      "pyswarms.single.global_best: 100%|███████████████████████████████████████████████████████████|250/250, best_cost=5.2e+5\n",
      "2021-11-21 01:03:48,452 - pyswarms.single.global_best - INFO - Optimization finished | best cost: 520065.72311821394, best pos: [0.32883054 0.4941485  0.7925249  0.98622768 0.63325395 0.40544296\n",
      " 0.1935538  0.77501839 0.34631413 0.89814797]\n",
      "2021-11-21 01:03:48,452 - pyswarms.single.global_best - INFO - Optimize for 200 iters with {'c1': 1.9, 'c2': 2, 'w': 0.9}\n"
     ]
    },
    {
     "name": "stdout",
     "output_type": "stream",
     "text": [
      "End Time:  1637456628.45252\n",
      "Start Time:  1637456628.45252\n"
     ]
    },
    {
     "name": "stderr",
     "output_type": "stream",
     "text": [
      "pyswarms.single.global_best: 100%|██████████████████████████████████████████████████████████|200/200, best_cost=6.25e+5\n",
      "2021-11-21 01:03:49,204 - pyswarms.single.global_best - INFO - Optimization finished | best cost: 624513.016548918, best pos: [-0.49565044  0.62463888  0.02166995  0.41049923  1.13863038 -0.4072151\n",
      "  0.81743901  0.67331239  0.61559134  0.46628711]\n",
      "2021-11-21 01:03:49,212 - pyswarms.single.global_best - INFO - Optimize for 250 iters with {'c1': 1.9, 'c2': 2, 'w': 0.5}\n"
     ]
    },
    {
     "name": "stdout",
     "output_type": "stream",
     "text": [
      "End Time:  1637456629.2121274\n",
      "Start Time:  1637456629.2121274\n"
     ]
    },
    {
     "name": "stderr",
     "output_type": "stream",
     "text": [
      "pyswarms.single.global_best: 100%|███████████████████████████████████████████████████████████|250/250, best_cost=1.5e+5\n",
      "2021-11-21 01:03:50,035 - pyswarms.single.global_best - INFO - Optimization finished | best cost: 150284.49806914805, best pos: [0.80954198 0.76829616 0.88256936 0.98920939 0.0861778  0.3939352\n",
      " 0.54259908 0.52992576 0.64831792 0.4023767 ]\n",
      "2021-11-21 01:03:50,043 - pyswarms.single.global_best - INFO - Optimize for 200 iters with {'c1': 1.9, 'c2': 2, 'w': 0.5}\n"
     ]
    },
    {
     "name": "stdout",
     "output_type": "stream",
     "text": [
      "End Time:  1637456630.0355766\n",
      "Start Time:  1637456630.0355766\n"
     ]
    },
    {
     "name": "stderr",
     "output_type": "stream",
     "text": [
      "pyswarms.single.global_best: 100%|███████████████████████████████████████████████████████████|200/200, best_cost=1.5e+5\n",
      "2021-11-21 01:03:50,831 - pyswarms.single.global_best - INFO - Optimization finished | best cost: 150284.68381538233, best pos: [0.64831798 0.40237672 0.08617577 0.39393293 0.809542   0.76829612\n",
      " 0.54259903 0.52992584 0.88256938 0.98920901]\n",
      "2021-11-21 01:03:50,839 - pyswarms.single.global_best - INFO - Optimize for 250 iters with {'c1': 2, 'c2': 1.7, 'w': 0.9}\n"
     ]
    },
    {
     "name": "stdout",
     "output_type": "stream",
     "text": [
      "End Time:  1637456630.8312817\n",
      "Start Time:  1637456630.8312817\n"
     ]
    },
    {
     "name": "stderr",
     "output_type": "stream",
     "text": [
      "pyswarms.single.global_best: 100%|███████████████████████████████████████████████████████████|250/250, best_cost=5.7e+5\n",
      "2021-11-21 01:03:51,678 - pyswarms.single.global_best - INFO - Optimization finished | best cost: 570009.8373366477, best pos: [0.64725789 0.3678004  0.78016647 0.67702996 1.45049485 1.49420977\n",
      " 0.19832445 0.49925039 0.13181324 0.14803407]\n",
      "2021-11-21 01:03:51,686 - pyswarms.single.global_best - INFO - Optimize for 200 iters with {'c1': 2, 'c2': 1.7, 'w': 0.9}\n"
     ]
    },
    {
     "name": "stdout",
     "output_type": "stream",
     "text": [
      "End Time:  1637456631.6787472\n",
      "Start Time:  1637456631.6787472\n"
     ]
    },
    {
     "name": "stderr",
     "output_type": "stream",
     "text": [
      "pyswarms.single.global_best: 100%|██████████████████████████████████████████████████████████|200/200, best_cost=5.61e+5\n",
      "2021-11-21 01:03:52,458 - pyswarms.single.global_best - INFO - Optimization finished | best cost: 560980.7896051783, best pos: [ 0.47889051  0.47288191  1.06309592 -0.39584078  1.20724614 -0.23794837\n",
      "  0.81631285  0.67684901  0.62531301  0.39876684]\n",
      "2021-11-21 01:03:52,466 - pyswarms.single.global_best - INFO - Optimize for 250 iters with {'c1': 2, 'c2': 1.7, 'w': 0.5}\n"
     ]
    },
    {
     "name": "stdout",
     "output_type": "stream",
     "text": [
      "End Time:  1637456632.46699\n",
      "Start Time:  1637456632.46699\n"
     ]
    },
    {
     "name": "stderr",
     "output_type": "stream",
     "text": [
      "pyswarms.single.global_best: 100%|███████████████████████████████████████████████████████████|250/250, best_cost=1.5e+5\n",
      "2021-11-21 01:03:53,338 - pyswarms.single.global_best - INFO - Optimization finished | best cost: 150284.2795481516, best pos: [0.08617522 0.39393245 0.80954198 0.76829616 0.5425991  0.52992577\n",
      " 0.64831793 0.4023767  0.88256928 0.98920928]\n",
      "2021-11-21 01:03:53,346 - pyswarms.single.global_best - INFO - Optimize for 200 iters with {'c1': 2, 'c2': 1.7, 'w': 0.5}\n"
     ]
    },
    {
     "name": "stdout",
     "output_type": "stream",
     "text": [
      "End Time:  1637456633.3384063\n",
      "Start Time:  1637456633.3384063\n"
     ]
    },
    {
     "name": "stderr",
     "output_type": "stream",
     "text": [
      "pyswarms.single.global_best: 100%|██████████████████████████████████████████████████████████|200/200, best_cost=1.71e+5\n",
      "2021-11-21 01:03:54,137 - pyswarms.single.global_best - INFO - Optimization finished | best cost: 170930.4644983575, best pos: [0.80954198 0.76829616 0.64831793 0.4023767  0.12073474 0.65456506\n",
      " 0.08617523 0.39393245 0.5425991  0.52992577]\n",
      "2021-11-21 01:03:54,145 - pyswarms.single.global_best - INFO - Optimize for 250 iters with {'c1': 2, 'c2': 2, 'w': 0.9}\n"
     ]
    },
    {
     "name": "stdout",
     "output_type": "stream",
     "text": [
      "End Time:  1637456634.1378708\n",
      "Start Time:  1637456634.1378708\n"
     ]
    },
    {
     "name": "stderr",
     "output_type": "stream",
     "text": [
      "pyswarms.single.global_best: 100%|██████████████████████████████████████████████████████████|250/250, best_cost=5.84e+5\n",
      "2021-11-21 01:03:54,973 - pyswarms.single.global_best - INFO - Optimization finished | best cost: 583974.5605578256, best pos: [0.83915213 0.76851199 0.24885973 0.50541061 0.69607227 0.34589334\n",
      " 0.84532453 0.97576116 0.42513325 0.18079014]\n",
      "2021-11-21 01:03:54,973 - pyswarms.single.global_best - INFO - Optimize for 200 iters with {'c1': 2, 'c2': 2, 'w': 0.9}\n"
     ]
    },
    {
     "name": "stdout",
     "output_type": "stream",
     "text": [
      "End Time:  1637456634.973525\n",
      "Start Time:  1637456634.973525\n"
     ]
    },
    {
     "name": "stderr",
     "output_type": "stream",
     "text": [
      "pyswarms.single.global_best: 100%|██████████████████████████████████████████████████████████|200/200, best_cost=4.56e+5\n",
      "2021-11-21 01:03:55,749 - pyswarms.single.global_best - INFO - Optimization finished | best cost: 456267.6862289597, best pos: [0.11090286 0.50434972 0.9463761  0.89594905 0.66711102 0.42614722\n",
      " 0.29398827 0.8863524  0.47703606 0.50706375]\n",
      "2021-11-21 01:03:55,749 - pyswarms.single.global_best - INFO - Optimize for 250 iters with {'c1': 2, 'c2': 2, 'w': 0.5}\n"
     ]
    },
    {
     "name": "stdout",
     "output_type": "stream",
     "text": [
      "End Time:  1637456635.749009\n",
      "Start Time:  1637456635.749009\n"
     ]
    },
    {
     "name": "stderr",
     "output_type": "stream",
     "text": [
      "pyswarms.single.global_best: 100%|██████████████████████████████████████████████████████████|250/250, best_cost=2.17e+5\n",
      "2021-11-21 01:03:56,592 - pyswarms.single.global_best - INFO - Optimization finished | best cost: 216501.8768081099, best pos: [0.80954198 0.76829616 0.0861752  0.39393238 0.88256932 0.98920924\n",
      " 0.12073471 0.6545651  0.64831793 0.40237671]\n",
      "2021-11-21 01:03:56,600 - pyswarms.single.global_best - INFO - Optimize for 200 iters with {'c1': 2, 'c2': 2, 'w': 0.5}\n"
     ]
    },
    {
     "name": "stdout",
     "output_type": "stream",
     "text": [
      "End Time:  1637456636.5928154\n",
      "Start Time:  1637456636.5928154\n"
     ]
    },
    {
     "name": "stderr",
     "output_type": "stream",
     "text": [
      "pyswarms.single.global_best: 100%|██████████████████████████████████████████████████████████|200/200, best_cost=1.71e+5\n",
      "2021-11-21 01:03:57,360 - pyswarms.single.global_best - INFO - Optimization finished | best cost: 170933.21677323917, best pos: [0.80954182 0.76829712 0.12075346 0.65458087 0.54259911 0.52992585\n",
      " 0.08617523 0.39393164 0.64831797 0.40237668]\n"
     ]
    },
    {
     "name": "stdout",
     "output_type": "stream",
     "text": [
      "End Time:  1637456637.3603017\n",
      "{'hyperparameter': [(80, 1.9, 1.7, 0.9), (100, 1.9, 1.7, 0.9), (80, 1.9, 1.7, 0.5), (100, 1.9, 1.7, 0.5), (80, 1.9, 2, 0.9), (100, 1.9, 2, 0.9), (80, 1.9, 2, 0.5), (100, 1.9, 2, 0.5), (80, 2, 1.7, 0.9), (100, 2, 1.7, 0.9), (80, 2, 1.7, 0.5), (100, 2, 1.7, 0.5), (80, 2, 2, 0.9), (100, 2, 2, 0.9), (80, 2, 2, 0.5), (100, 2, 2, 0.5), (80, 1.9, 1.7, 0.9), (100, 1.9, 1.7, 0.9), (80, 1.9, 1.7, 0.5), (100, 1.9, 1.7, 0.5), (80, 1.9, 2, 0.9), (100, 1.9, 2, 0.9), (80, 1.9, 2, 0.5), (100, 1.9, 2, 0.5), (80, 2, 1.7, 0.9), (100, 2, 1.7, 0.9), (80, 2, 1.7, 0.5), (100, 2, 1.7, 0.5), (80, 2, 2, 0.9), (100, 2, 2, 0.9), (80, 2, 2, 0.5), (100, 2, 2, 0.5), (80, 1.9, 1.7, 0.9), (100, 1.9, 1.7, 0.9), (80, 1.9, 1.7, 0.5), (100, 1.9, 1.7, 0.5), (80, 1.9, 2, 0.9), (100, 1.9, 2, 0.9), (80, 1.9, 2, 0.5), (100, 1.9, 2, 0.5), (80, 2, 1.7, 0.9), (100, 2, 1.7, 0.9), (80, 2, 1.7, 0.5), (100, 2, 1.7, 0.5), (80, 2, 2, 0.9), (100, 2, 2, 0.9), (80, 2, 2, 0.5), (100, 2, 2, 0.5), (80, 1.9, 1.7, 0.9), (100, 1.9, 1.7, 0.9), (80, 1.9, 1.7, 0.5), (100, 1.9, 1.7, 0.5), (80, 1.9, 2, 0.9), (100, 1.9, 2, 0.9), (80, 1.9, 2, 0.5), (100, 1.9, 2, 0.5), (80, 2, 1.7, 0.9), (100, 2, 1.7, 0.9), (80, 2, 1.7, 0.5), (100, 2, 1.7, 0.5), (80, 2, 2, 0.9), (100, 2, 2, 0.9), (80, 2, 2, 0.5), (100, 2, 2, 0.5), (80, 1.9, 1.7, 0.9), (100, 1.9, 1.7, 0.9), (80, 1.9, 1.7, 0.5), (100, 1.9, 1.7, 0.5), (80, 1.9, 2, 0.9), (100, 1.9, 2, 0.9), (80, 1.9, 2, 0.5), (100, 1.9, 2, 0.5), (80, 2, 1.7, 0.9), (100, 2, 1.7, 0.9), (80, 2, 1.7, 0.5), (100, 2, 1.7, 0.5), (80, 2, 2, 0.9), (100, 2, 2, 0.9), (80, 2, 2, 0.5), (100, 2, 2, 0.5)], 'cost': [421016.4805773466, 513790.501718807, 170930.46390233914, 170930.46525279075, 494076.99410107615, 512710.406294444, 170930.46681796364, 150284.45530563797, 438671.30453308363, 501705.89761834557, 170930.46394532564, 170930.47031020926, 546539.7826714261, 451623.5004980182, 230131.02416022608, 170932.9390197469, 481953.052157233, 360825.07565252425, 170930.4639012369, 244800.5670166913, 502869.29734058876, 430686.90900057903, 170930.46733431588, 170933.8284787951, 544358.2867291765, 488526.07227737195, 152666.63433509393, 150284.28345802517, 616208.0267321153, 440231.531302302, 170930.5935109775, 230131.1264226767, 469431.5757499958, 464757.94052883866, 150284.27950805367, 150284.28182516794, 517262.8729417303, 459814.9254061605, 150284.3397534845, 171065.6961181298, 559714.6802797342, 478033.60543472745, 152666.63469298914, 170930.46737523406, 556488.7140660471, 595808.3539353051, 150284.31975885987, 150285.80006902487, 494604.34287160134, 454956.6067867214, 150284.27950874972, 230131.00279470222, 576433.339222799, 472086.0020979518, 170930.47216355448, 150284.36745239465, 522326.7935691449, 421347.4524939375, 150284.27952805255, 150284.28290524843, 511145.71524812595, 566484.9530886183, 150284.31916334407, 150304.07509498578, 524226.5169430863, 504461.11114154564, 150284.27957441733, 170930.46442769357, 520065.72311821394, 624513.016548918, 150284.49806914805, 150284.68381538233, 570009.8373366477, 560980.7896051783, 150284.2795481516, 170930.4644983575, 583974.5605578256, 456267.6862289597, 216501.8768081099, 170933.21677323917], 'time': [0.8516891002655029, 0.7754824161529541, 0.8658573627471924, 0.7914695739746094, 0.8394386768341064, 0.760094404220581, 0.8154199123382568, 0.819709062576294, 0.8788049221038818, 0.8106691837310791, 0.9088594913482666, 0.8291337490081787, 0.8916323184967041, 0.7994658946990967, 0.8596389293670654, 0.8314428329467773, 0.8394391536712646, 0.787743330001831, 0.9589283466339111, 0.755725622177124, 0.8314435482025146, 0.7674887180328369, 0.8283143043518066, 0.8074581623077393, 0.8596584796905518, 0.7878298759460449, 0.8516683578491211, 0.7834763526916504, 0.860938310623169, 0.7477052211761475, 0.8234491348266602, 0.7478477954864502, 0.791468620300293, 0.7915041446685791, 0.8676207065582275, 0.7674858570098877, 0.8358018398284912, 0.7834761142730713, 0.831444501876831, 0.8037266731262207, 0.8234491348266602, 0.7558250427246094, 0.8154535293579102, 0.7514967918395996, 0.8037173748016357, 0.7994656562805176, 0.8676810264587402, 0.823448896408081, 0.8718371391296387, 0.8044922351837158, 0.8286035060882568, 0.7797830104827881, 0.8553965091705322, 0.7754809856414795, 0.8596489429473877, 0.7834746837615967, 0.8522858619689941, 0.7994639873504639, 0.8436951637268066, 0.7914695739746094, 0.8474335670471191, 0.7797417640686035, 0.8794126510620117, 0.7797832489013672, 0.8476524353027344, 0.7755618095397949, 0.8516185283660889, 0.7754800319671631, 0.8196699619293213, 0.7596075534820557, 0.8234491348266602, 0.7957050800323486, 0.8474655151367188, 0.7882428169250488, 0.8714163303375244, 0.7994644641876221, 0.8356542587280273, 0.7754838466644287, 0.8438065052032471, 0.7674863338470459]}\n"
     ]
    }
   ],
   "source": [
    "# Paricle Swarm Optimization: Code referred from the Pyswarm documentation.\n",
    "#def pso_algo():\n",
    "c1_list = [1.9,2]\n",
    "c2_list = [1.7,2]\n",
    "w_list = [0.9,0.5]\n",
    "n_particles_list = [80,100]\n",
    "\n",
    "\n",
    "hyperparameter_list = list()\n",
    "cost_list = list()\n",
    "time_list = list()\n",
    "\n",
    "pso_combinations = list()\n",
    "for j in range(0, reps):\n",
    "\n",
    "    np.random.seed(j)\n",
    "\n",
    "    for c1,c2,w,n in itertools.product(c1_list, c2_list, w_list,n_particles_list):\n",
    "        pso_start_time = time.time()\n",
    "        print(\"Start Time: \", pso_start_time)\n",
    "        hyperparameters = {\"c1\": c1, \"c2\": c2, \"w\":w}\n",
    "        optimizer = ps.single.GlobalBestPSO(n_particles=n, dimensions=(nsupermarkets * 2), options=hyperparameters)\n",
    "        cost, pos = optimizer.optimize(time_travel_PSO, iters=int(maxits/n))\n",
    "        hyperparameter_tuple = (n, c1, c2, w)\n",
    "        hyperparameter_list.append(hyperparameter_tuple)\n",
    "        cost_list.append(cost)\n",
    "\n",
    "        pso_end_time = time.time()\n",
    "        print(\"End Time: \", pso_end_time)\n",
    "        time_list.append(pso_end_time - pso_start_time)\n",
    "pso_dict = {\"hyperparameter\": hyperparameter_list, \"cost\": cost_list, \"time\": time_list}\n",
    "#    return pso_combinations"
   ]
  },
  {
   "cell_type": "code",
   "execution_count": 77,
   "id": "65ab237d",
   "metadata": {},
   "outputs": [
    {
     "name": "stdout",
     "output_type": "stream",
     "text": [
      "16\n"
     ]
    }
   ],
   "source": [
    "dict_table = {\"Algorithm\": \"PSO\"}\n",
    "table_df = pd.DataFrame(pso_dict)\n",
    "table_df = table_df.sort_values(\"hyperparameter\")\n",
    "\n",
    "hyperparams = list(table_df[\"hyperparameter\"])\n",
    "cost_values = list(table_df[\"cost\"])\n",
    "time_values = list(table_df[\"time\"])\n",
    "\n",
    "cost_sum = 0\n",
    "time_sum = 0\n",
    "compare_hp = 0\n",
    "\n",
    "cost_sum_dict = {}\n",
    "time_sum_dict = {}\n",
    "\n",
    "for val in range(0, len(hyperparams)):\n",
    "    if val == 0:\n",
    "        compare_hp == hyperparams[val]\n",
    "    \n",
    "    if hyperparams[val] == compare_hp:\n",
    "        cost_sum = cost_sum + cost_values[val]\n",
    "        time_sum = time_sum + time_values[val]\n",
    "        cost_sum_dict[hyperparams[val]] = cost_sum\n",
    "        time_sum_dict[hyperparams[val]] = time_sum\n",
    "    elif hyperparams[val] != compare_hp:\n",
    "        cost_sum_dict[hyperparams[val]] = cost_sum\n",
    "        time_sum_dict[hyperparams[val]] = time_sum\n",
    "        compare_hp = hyperparams[val]\n",
    "        cost_sum = cost_values[val]\n",
    "        time_sum = time_values[val]"
   ]
  },
  {
   "cell_type": "code",
   "execution_count": 57,
   "id": "540361de",
   "metadata": {},
   "outputs": [],
   "source": [
    "def cma_algo():\n",
    "    cma_list = list()\n",
    "    cma_time_list = list()\n",
    "    cma_dict_table = {\"Algorithm\": \"CMA\", \"popsize\": \"na\", \"w\": \"na\", \"Cg\": \"na\", \"Cp\": \"na\"}\n",
    "    for k in range(0,  reps):\n",
    "        cma_start_time = time.time()\n",
    "        print(\"Start Time: \", cma_start_time)\n",
    "        initial = np.zeros(nsupermarkets*2)\n",
    "        sigma = 0.5\n",
    "\n",
    "        estimate_cma = cma.CMAEvolutionStrategy(initial, sigma, {'bounds': [0.0, 1.0], 'seed': (k+1)})\n",
    "        count = 0\n",
    "        while not estimate_cma.stop() and count < maxits / estimate_cma.popsize:\n",
    "            X = estimate_cma.ask()\n",
    "            estimate_cma.tell(X, [total_travel_time(x.reshape(nsupermarkets,2),c,p) for x in X])#Solution\n",
    "            estimate_cma.disp()\n",
    "            count += 1\n",
    "\n",
    "        xbest, cost_best, evals_best, evaluations, iterations, xfavorite, stds, stop = estimate_cma.result\n",
    "        cma_list.append(cost_best)\n",
    "        cma_end_time = time.time()\n",
    "        print(\"End Time: \", cma_end_time)\n",
    "        cma_time_list.append(cma_end_time - cma_start_time)\n",
    "        \n",
    "    cma_dict_table[\"min\"] = min(cma_list)\n",
    "    cma_dict_table[\"mean\"] = np.mean(cma_list)\n",
    "    cma_dict_table[\"stddev\"] = np.std(cma_list)\n",
    "    cma_dict_table[\"time\"] = np.mean(cma_time_list)\n",
    "    \n",
    "    return cma_list"
   ]
  },
  {
   "cell_type": "code",
   "execution_count": 58,
   "id": "ab7d807f",
   "metadata": {},
   "outputs": [],
   "source": [
    "def main():\n",
    "    main_start_time = time.time()\n",
    "    print(\"main start time\", main_start_time)\n",
    "    rs_best = random_search_algo()\n",
    "    pso_best = pso_algo()\n",
    "    cma_best = cma_algo()\n",
    "    main_end_time = time.time()\n",
    "    print(\"main end time\", main_end_time)\n",
    "    \n",
    "    print(\"Total Time = \", main_end_time - main_start_time)"
   ]
  },
  {
   "cell_type": "code",
   "execution_count": 59,
   "id": "96fbf0e3",
   "metadata": {},
   "outputs": [
    {
     "name": "stdout",
     "output_type": "stream",
     "text": [
      "main start time 1637439678.03729\n",
      "Start Time:  1637439678.03729\n",
      "End Time:  1637439678.549799\n",
      "Start Time:  1637439678.549799\n",
      "End Time:  1637439679.0294218\n",
      "Start Time:  1637439679.0294218\n",
      "End Time:  1637439679.5046966\n",
      "Start Time:  1637439679.5056937\n",
      "End Time:  1637439680.0033634\n",
      "Start Time:  1637439680.0043604\n"
     ]
    },
    {
     "name": "stderr",
     "output_type": "stream",
     "text": [
      "2021-11-20 20:21:20,478 - pyswarms.single.global_best - INFO - Optimize for 250 iters with {'c1': 1.9, 'c2': 1.7, 'w': 0.9}\n"
     ]
    },
    {
     "name": "stdout",
     "output_type": "stream",
     "text": [
      "End Time:  1637439680.4731364\n",
      "Start Time:  1637439680.4731364\n"
     ]
    },
    {
     "name": "stderr",
     "output_type": "stream",
     "text": [
      "pyswarms.single.global_best: 100%|██████████████████████████████████████████████████████████|250/250, best_cost=4.21e+5\n",
      "2021-11-20 20:21:21,343 - pyswarms.single.global_best - INFO - Optimization finished | best cost: 421016.4805773466, best pos: [-5.34296721  0.45729605  0.63005831  0.40022367  1.43451403 -2.36241105\n",
      "  0.83288006  0.77272662  0.14345161  0.54639671]\n",
      "2021-11-20 20:21:21,351 - pyswarms.single.global_best - INFO - Optimize for 200 iters with {'c1': 1.9, 'c2': 1.7, 'w': 0.9}\n",
      "pyswarms.single.global_best: 100%|██████████████████████████████████████████████████████████|200/200, best_cost=5.14e+5\n",
      "2021-11-20 20:21:22,141 - pyswarms.single.global_best - INFO - Optimization finished | best cost: 513790.501718807, best pos: [ 0.63943665  0.40915032  0.50980902  0.6333211   0.76051087  0.83970722\n",
      " -2.00881197  1.4625664   1.01358906  0.73824222]\n",
      "2021-11-20 20:21:22,146 - pyswarms.single.global_best - INFO - Optimize for 250 iters with {'c1': 1.9, 'c2': 1.7, 'w': 0.5}\n",
      "pyswarms.single.global_best: 100%|██████████████████████████████████████████████████████████|250/250, best_cost=1.71e+5\n",
      "2021-11-20 20:21:23,106 - pyswarms.single.global_best - INFO - Optimization finished | best cost: 170930.46390233914, best pos: [0.5425991  0.52992577 0.08617522 0.39393245 0.80954198 0.76829616\n",
      " 0.64831793 0.4023767  0.12073474 0.65456506]\n",
      "2021-11-20 20:21:23,111 - pyswarms.single.global_best - INFO - Optimize for 200 iters with {'c1': 1.9, 'c2': 1.7, 'w': 0.5}\n",
      "pyswarms.single.global_best: 100%|██████████████████████████████████████████████████████████|200/200, best_cost=1.71e+5\n",
      "2021-11-20 20:21:23,924 - pyswarms.single.global_best - INFO - Optimization finished | best cost: 170930.46525279075, best pos: [0.08617523 0.39393245 0.80954198 0.76829616 0.64831793 0.4023767\n",
      " 0.12073474 0.65456506 0.5425991  0.52992577]\n",
      "2021-11-20 20:21:23,932 - pyswarms.single.global_best - INFO - Optimize for 250 iters with {'c1': 1.9, 'c2': 2, 'w': 0.9}\n",
      "pyswarms.single.global_best: 100%|██████████████████████████████████████████████████████████|250/250, best_cost=4.94e+5\n",
      "2021-11-20 20:21:24,940 - pyswarms.single.global_best - INFO - Optimization finished | best cost: 494076.99410107615, best pos: [0.95847014 0.76037444 0.97027983 0.05890662 0.65788651 0.22334609\n",
      " 0.13999167 0.55473249 0.64193905 0.41283974]\n",
      "2021-11-20 20:21:24,950 - pyswarms.single.global_best - INFO - Optimize for 200 iters with {'c1': 1.9, 'c2': 2, 'w': 0.9}\n",
      "pyswarms.single.global_best: 100%|██████████████████████████████████████████████████████████|200/200, best_cost=5.13e+5\n",
      "2021-11-20 20:21:25,795 - pyswarms.single.global_best - INFO - Optimization finished | best cost: 512710.406294444, best pos: [0.79977244 0.74475587 0.66999573 0.3592189  0.67931093 0.80876875\n",
      " 0.11382155 0.37687457 0.25554922 0.73300789]\n",
      "2021-11-20 20:21:25,809 - pyswarms.single.global_best - INFO - Optimize for 250 iters with {'c1': 1.9, 'c2': 2, 'w': 0.5}\n",
      "pyswarms.single.global_best: 100%|██████████████████████████████████████████████████████████|250/250, best_cost=1.71e+5\n",
      "2021-11-20 20:21:26,954 - pyswarms.single.global_best - INFO - Optimization finished | best cost: 170930.46681796364, best pos: [0.64831793 0.4023767  0.12073474 0.65456506 0.5425991  0.52992577\n",
      " 0.08617523 0.39393246 0.80954198 0.76829616]\n",
      "2021-11-20 20:21:26,962 - pyswarms.single.global_best - INFO - Optimize for 200 iters with {'c1': 1.9, 'c2': 2, 'w': 0.5}\n",
      "pyswarms.single.global_best: 100%|███████████████████████████████████████████████████████████|200/200, best_cost=1.5e+5\n",
      "2021-11-20 20:21:28,002 - pyswarms.single.global_best - INFO - Optimization finished | best cost: 150284.45530563797, best pos: [0.08617525 0.39393373 0.54259912 0.52992577 0.64831793 0.4023767\n",
      " 0.88256912 0.98920925 0.809542   0.76829619]\n",
      "2021-11-20 20:21:28,009 - pyswarms.single.global_best - INFO - Optimize for 250 iters with {'c1': 2, 'c2': 1.7, 'w': 0.9}\n",
      "pyswarms.single.global_best: 100%|██████████████████████████████████████████████████████████|250/250, best_cost=4.39e+5\n",
      "2021-11-20 20:21:29,007 - pyswarms.single.global_best - INFO - Optimization finished | best cost: 438671.30453308363, best pos: [ 0.64769003  0.38472865 -0.02444871  0.07892373  0.14518202  0.85002103\n",
      "  0.22953112  0.63987657  0.81291267  0.82977961]\n",
      "2021-11-20 20:21:29,016 - pyswarms.single.global_best - INFO - Optimize for 200 iters with {'c1': 2, 'c2': 1.7, 'w': 0.9}\n",
      "pyswarms.single.global_best: 100%|██████████████████████████████████████████████████████████|200/200, best_cost=5.02e+5\n",
      "2021-11-20 20:21:29,822 - pyswarms.single.global_best - INFO - Optimization finished | best cost: 501705.89761834557, best pos: [0.1944832  0.92220734 0.67481495 0.5178524  0.81653766 0.92682276\n",
      " 0.17960966 0.74238853 0.65763502 0.37436648]\n",
      "2021-11-20 20:21:29,826 - pyswarms.single.global_best - INFO - Optimize for 250 iters with {'c1': 2, 'c2': 1.7, 'w': 0.5}\n",
      "pyswarms.single.global_best: 100%|██████████████████████████████████████████████████████████|250/250, best_cost=1.71e+5\n",
      "2021-11-20 20:21:30,724 - pyswarms.single.global_best - INFO - Optimization finished | best cost: 170930.46394532564, best pos: [0.5425991  0.52992577 0.80954198 0.76829616 0.12073474 0.65456506\n",
      " 0.08617522 0.39393245 0.64831793 0.4023767 ]\n",
      "2021-11-20 20:21:30,733 - pyswarms.single.global_best - INFO - Optimize for 200 iters with {'c1': 2, 'c2': 1.7, 'w': 0.5}\n",
      "pyswarms.single.global_best: 100%|██████████████████████████████████████████████████████████|200/200, best_cost=1.71e+5\n",
      "2021-11-20 20:21:31,592 - pyswarms.single.global_best - INFO - Optimization finished | best cost: 170930.47031020926, best pos: [0.64831793 0.4023767  0.12073473 0.65456508 0.80954198 0.76829616\n",
      " 0.08617522 0.39393244 0.5425991  0.52992577]\n",
      "2021-11-20 20:21:31,600 - pyswarms.single.global_best - INFO - Optimize for 250 iters with {'c1': 2, 'c2': 2, 'w': 0.9}\n",
      "pyswarms.single.global_best: 100%|██████████████████████████████████████████████████████████|250/250, best_cost=5.47e+5\n",
      "2021-11-20 20:21:32,501 - pyswarms.single.global_best - INFO - Optimization finished | best cost: 546539.7826714261, best pos: [0.52232904 0.46034013 0.59743869 0.38992938 0.0584871  0.47322876\n",
      " 0.45362267 0.55740249 0.94075293 0.75605978]\n",
      "2021-11-20 20:21:32,506 - pyswarms.single.global_best - INFO - Optimize for 200 iters with {'c1': 2, 'c2': 2, 'w': 0.9}\n",
      "pyswarms.single.global_best: 100%|██████████████████████████████████████████████████████████|200/200, best_cost=4.52e+5\n",
      "2021-11-20 20:21:33,405 - pyswarms.single.global_best - INFO - Optimization finished | best cost: 451623.5004980182, best pos: [0.63121827 0.41081209 0.18659658 0.98665451 0.91346703 0.75711576\n",
      " 0.13581464 3.19212665 0.18008311 0.41116864]\n",
      "2021-11-20 20:21:33,410 - pyswarms.single.global_best - INFO - Optimize for 250 iters with {'c1': 2, 'c2': 2, 'w': 0.5}\n",
      "pyswarms.single.global_best: 100%|███████████████████████████████████████████████████████████|250/250, best_cost=2.3e+5\n",
      "2021-11-20 20:21:34,348 - pyswarms.single.global_best - INFO - Optimization finished | best cost: 230131.02416022608, best pos: [ 5.42599105e-01  5.29925775e-01  8.61753342e-02  3.93932606e-01\n",
      "  3.73512531e+02 -2.33845743e+05  8.09541979e-01  7.68296166e-01\n",
      "  6.48317925e-01  4.02376701e-01]\n",
      "2021-11-20 20:21:34,354 - pyswarms.single.global_best - INFO - Optimize for 200 iters with {'c1': 2, 'c2': 2, 'w': 0.5}\n",
      "pyswarms.single.global_best: 100%|██████████████████████████████████████████████████████████|200/200, best_cost=1.71e+5\n",
      "2021-11-20 20:21:35,219 - pyswarms.single.global_best - INFO - Optimization finished | best cost: 170932.9390197469, best pos: [0.1207359  0.6545652  0.0861767  0.39393456 0.80954234 0.76829668\n",
      " 0.5425988  0.52992531 0.64831785 0.40237633]\n",
      "2021-11-20 20:21:35,225 - pyswarms.single.global_best - INFO - Optimize for 250 iters with {'c1': 1.9, 'c2': 1.7, 'w': 0.9}\n"
     ]
    },
    {
     "name": "stdout",
     "output_type": "stream",
     "text": [
      "End Time:  1637439695.2203896\n",
      "Start Time:  1637439695.2203896\n"
     ]
    },
    {
     "name": "stderr",
     "output_type": "stream",
     "text": [
      "pyswarms.single.global_best: 100%|██████████████████████████████████████████████████████████|250/250, best_cost=4.82e+5\n",
      "2021-11-20 20:21:36,190 - pyswarms.single.global_best - INFO - Optimization finished | best cost: 481953.052157233, best pos: [ 0.549343    0.61267278  0.85677591 -1.0565367   0.72006293  0.86456484\n",
      "  0.63070656  0.38522058  0.2546404   0.58730518]\n",
      "2021-11-20 20:21:36,199 - pyswarms.single.global_best - INFO - Optimize for 200 iters with {'c1': 1.9, 'c2': 1.7, 'w': 0.9}\n",
      "pyswarms.single.global_best: 100%|██████████████████████████████████████████████████████████|200/200, best_cost=3.61e+5\n",
      "2021-11-20 20:21:37,103 - pyswarms.single.global_best - INFO - Optimization finished | best cost: 360825.07565252425, best pos: [0.63693645 0.39082204 0.73935275 0.84784649 0.14102864 0.59095832\n",
      " 0.50762528 0.50668576 0.34445285 0.04537007]\n",
      "2021-11-20 20:21:37,108 - pyswarms.single.global_best - INFO - Optimize for 250 iters with {'c1': 1.9, 'c2': 1.7, 'w': 0.5}\n",
      "pyswarms.single.global_best: 100%|██████████████████████████████████████████████████████████|250/250, best_cost=1.71e+5\n",
      "2021-11-20 20:21:37,860 - pyswarms.single.global_best - INFO - Optimization finished | best cost: 170930.4639012369, best pos: [0.5425991  0.52992577 0.12073474 0.65456506 0.08617522 0.39393245\n",
      " 0.80954198 0.76829616 0.64831793 0.4023767 ]\n",
      "2021-11-20 20:21:37,866 - pyswarms.single.global_best - INFO - Optimize for 200 iters with {'c1': 1.9, 'c2': 1.7, 'w': 0.5}\n",
      "pyswarms.single.global_best: 100%|██████████████████████████████████████████████████████████|200/200, best_cost=2.45e+5\n",
      "2021-11-20 20:21:38,556 - pyswarms.single.global_best - INFO - Optimization finished | best cost: 244800.5670166913, best pos: [0.6483283  0.40240027 0.09555374 0.63284205 0.28373684 0.14655671\n",
      " 0.88279369 0.989255   0.80955794 0.7682848 ]\n",
      "2021-11-20 20:21:38,561 - pyswarms.single.global_best - INFO - Optimize for 250 iters with {'c1': 1.9, 'c2': 2, 'w': 0.9}\n",
      "pyswarms.single.global_best: 100%|██████████████████████████████████████████████████████████|250/250, best_cost=5.03e+5\n",
      "2021-11-20 20:21:39,345 - pyswarms.single.global_best - INFO - Optimization finished | best cost: 502869.29734058876, best pos: [0.34651982 0.7448684  0.67938975 0.46134308 0.61100922 0.40840906\n",
      " 0.20693159 0.18386522 0.89006444 0.86265302]\n",
      "2021-11-20 20:21:39,352 - pyswarms.single.global_best - INFO - Optimize for 200 iters with {'c1': 1.9, 'c2': 2, 'w': 0.9}\n",
      "pyswarms.single.global_best: 100%|██████████████████████████████████████████████████████████|200/200, best_cost=4.31e+5\n",
      "2021-11-20 20:21:40,154 - pyswarms.single.global_best - INFO - Optimization finished | best cost: 430686.90900057903, best pos: [1.37989342 1.0645122  0.76144346 0.84050854 0.64653241 0.4116874\n",
      " 0.67119323 0.64442267 0.10030542 0.56300743]\n",
      "2021-11-20 20:21:40,159 - pyswarms.single.global_best - INFO - Optimize for 250 iters with {'c1': 1.9, 'c2': 2, 'w': 0.5}\n",
      "pyswarms.single.global_best: 100%|██████████████████████████████████████████████████████████|250/250, best_cost=1.71e+5\n",
      "2021-11-20 20:21:41,060 - pyswarms.single.global_best - INFO - Optimization finished | best cost: 170930.46733431588, best pos: [0.08617522 0.39393245 0.5425991  0.52992577 0.12073475 0.65456507\n",
      " 0.80954198 0.76829616 0.64831793 0.4023767 ]\n",
      "2021-11-20 20:21:41,068 - pyswarms.single.global_best - INFO - Optimize for 200 iters with {'c1': 1.9, 'c2': 2, 'w': 0.5}\n",
      "pyswarms.single.global_best: 100%|██████████████████████████████████████████████████████████|200/200, best_cost=1.71e+5\n",
      "2021-11-20 20:21:41,900 - pyswarms.single.global_best - INFO - Optimization finished | best cost: 170933.8284787951, best pos: [0.8095426  0.76829835 0.12073008 0.65456961 0.54259917 0.52992554\n",
      " 0.08617637 0.39393288 0.64831833 0.4023769 ]\n",
      "2021-11-20 20:21:41,905 - pyswarms.single.global_best - INFO - Optimize for 250 iters with {'c1': 2, 'c2': 1.7, 'w': 0.9}\n",
      "pyswarms.single.global_best: 100%|██████████████████████████████████████████████████████████|250/250, best_cost=5.44e+5\n",
      "2021-11-20 20:21:42,836 - pyswarms.single.global_best - INFO - Optimization finished | best cost: 544358.2867291765, best pos: [0.84065507 0.75067509 0.84352596 0.41866882 0.52457114 0.75522809\n",
      " 0.74619031 0.3256768  0.65211337 0.4160296 ]\n",
      "2021-11-20 20:21:42,841 - pyswarms.single.global_best - INFO - Optimize for 200 iters with {'c1': 2, 'c2': 1.7, 'w': 0.9}\n",
      "pyswarms.single.global_best: 100%|██████████████████████████████████████████████████████████|200/200, best_cost=4.89e+5\n",
      "2021-11-20 20:21:43,648 - pyswarms.single.global_best - INFO - Optimization finished | best cost: 488526.07227737195, best pos: [0.60344949 0.46221413 0.70667048 0.22902587 0.6807926  0.41986941\n",
      " 0.20646675 0.9461693  0.77812879 0.8018171 ]\n",
      "2021-11-20 20:21:43,653 - pyswarms.single.global_best - INFO - Optimize for 250 iters with {'c1': 2, 'c2': 1.7, 'w': 0.5}\n",
      "pyswarms.single.global_best: 100%|██████████████████████████████████████████████████████████|250/250, best_cost=1.53e+5\n",
      "2021-11-20 20:21:44,557 - pyswarms.single.global_best - INFO - Optimization finished | best cost: 152666.63433509393, best pos: [0.80954198 0.76829616 0.5425991  0.52992577 0.88256928 0.98920928\n",
      " 0.64831793 0.4023767  0.12073474 0.65456506]\n",
      "2021-11-20 20:21:44,564 - pyswarms.single.global_best - INFO - Optimize for 200 iters with {'c1': 2, 'c2': 1.7, 'w': 0.5}\n",
      "pyswarms.single.global_best: 100%|███████████████████████████████████████████████████████████|200/200, best_cost=1.5e+5\n",
      "2021-11-20 20:21:45,357 - pyswarms.single.global_best - INFO - Optimization finished | best cost: 150284.28345802517, best pos: [0.5425991  0.52992577 0.64831793 0.4023767  0.08617523 0.39393247\n",
      " 0.80954198 0.76829616 0.88256928 0.98920928]\n",
      "2021-11-20 20:21:45,362 - pyswarms.single.global_best - INFO - Optimize for 250 iters with {'c1': 2, 'c2': 2, 'w': 0.9}\n",
      "pyswarms.single.global_best: 100%|██████████████████████████████████████████████████████████|250/250, best_cost=6.16e+5\n",
      "2021-11-20 20:21:46,235 - pyswarms.single.global_best - INFO - Optimization finished | best cost: 616208.0267321153, best pos: [0.67818539 0.99566049 0.09962434 0.70983626 0.28578473 0.74808121\n",
      " 0.29154147 0.6575743  0.62923224 0.41146079]\n",
      "2021-11-20 20:21:46,241 - pyswarms.single.global_best - INFO - Optimize for 200 iters with {'c1': 2, 'c2': 2, 'w': 0.9}\n",
      "pyswarms.single.global_best: 100%|███████████████████████████████████████████████████████████|200/200, best_cost=4.4e+5\n",
      "2021-11-20 20:21:47,048 - pyswarms.single.global_best - INFO - Optimization finished | best cost: 440231.531302302, best pos: [0.74846098 0.73553425 0.78485573 0.03727625 0.30733216 0.18578186\n",
      " 0.5567568  0.57789325 0.66015525 0.41581248]\n",
      "2021-11-20 20:21:47,053 - pyswarms.single.global_best - INFO - Optimize for 250 iters with {'c1': 2, 'c2': 2, 'w': 0.5}\n",
      "pyswarms.single.global_best: 100%|██████████████████████████████████████████████████████████|250/250, best_cost=1.71e+5\n",
      "2021-11-20 20:21:47,970 - pyswarms.single.global_best - INFO - Optimization finished | best cost: 170930.5935109775, best pos: [0.0861752  0.3939324  0.64831793 0.4023767  0.12073448 0.65456554\n",
      " 0.5425991  0.52992578 0.80954198 0.76829612]\n",
      "2021-11-20 20:21:47,975 - pyswarms.single.global_best - INFO - Optimize for 200 iters with {'c1': 2, 'c2': 2, 'w': 0.5}\n",
      "pyswarms.single.global_best: 100%|███████████████████████████████████████████████████████████|200/200, best_cost=2.3e+5\n",
      "2021-11-20 20:21:48,780 - pyswarms.single.global_best - INFO - Optimization finished | best cost: 230131.1264226767, best pos: [ 5.42599107e-01  5.29925783e-01  8.61764723e-02  3.93933329e-01\n",
      " -1.76472399e+03  8.29895928e+00  8.09542011e-01  7.68296163e-01\n",
      "  6.48317932e-01  4.02376704e-01]\n",
      "2021-11-20 20:21:48,786 - pyswarms.single.global_best - INFO - Optimize for 250 iters with {'c1': 1.9, 'c2': 1.7, 'w': 0.9}\n"
     ]
    },
    {
     "name": "stdout",
     "output_type": "stream",
     "text": [
      "End Time:  1637439708.781956\n",
      "Start Time:  1637439708.781956\n"
     ]
    },
    {
     "name": "stderr",
     "output_type": "stream",
     "text": [
      "pyswarms.single.global_best: 100%|██████████████████████████████████████████████████████████|250/250, best_cost=4.69e+5\n",
      "2021-11-20 20:21:49,544 - pyswarms.single.global_best - INFO - Optimization finished | best cost: 469431.5757499958, best pos: [ 0.19518833  0.76509522  0.8137973   0.85618658  0.22928734  0.40703482\n",
      " -0.01741082  0.28737586  0.67751014  0.4002836 ]\n",
      "2021-11-20 20:21:49,553 - pyswarms.single.global_best - INFO - Optimize for 200 iters with {'c1': 1.9, 'c2': 1.7, 'w': 0.9}\n",
      "pyswarms.single.global_best: 100%|██████████████████████████████████████████████████████████|200/200, best_cost=4.65e+5\n",
      "2021-11-20 20:21:50,320 - pyswarms.single.global_best - INFO - Optimization finished | best cost: 464757.94052883866, best pos: [ 0.83524278  0.85082051  0.63764404  0.41114751 -0.13657762  0.74031423\n",
      " -0.15165065  0.37073295  0.97495789  0.13970494]\n",
      "2021-11-20 20:21:50,324 - pyswarms.single.global_best - INFO - Optimize for 250 iters with {'c1': 1.9, 'c2': 1.7, 'w': 0.5}\n",
      "pyswarms.single.global_best: 100%|███████████████████████████████████████████████████████████|250/250, best_cost=1.5e+5\n",
      "2021-11-20 20:21:51,196 - pyswarms.single.global_best - INFO - Optimization finished | best cost: 150284.27950805367, best pos: [0.88256928 0.98920928 0.80954198 0.76829616 0.5425991  0.52992577\n",
      " 0.08617522 0.39393245 0.64831793 0.4023767 ]\n",
      "2021-11-20 20:21:51,202 - pyswarms.single.global_best - INFO - Optimize for 200 iters with {'c1': 1.9, 'c2': 1.7, 'w': 0.5}\n",
      "pyswarms.single.global_best: 100%|███████████████████████████████████████████████████████████|200/200, best_cost=1.5e+5\n",
      "2021-11-20 20:21:52,015 - pyswarms.single.global_best - INFO - Optimization finished | best cost: 150284.28182516794, best pos: [0.80954198 0.76829616 0.88256928 0.98920928 0.5425991  0.52992577\n",
      " 0.08617524 0.39393247 0.64831793 0.4023767 ]\n",
      "2021-11-20 20:21:52,021 - pyswarms.single.global_best - INFO - Optimize for 250 iters with {'c1': 1.9, 'c2': 2, 'w': 0.9}\n",
      "pyswarms.single.global_best: 100%|██████████████████████████████████████████████████████████|250/250, best_cost=5.17e+5\n",
      "2021-11-20 20:21:52,927 - pyswarms.single.global_best - INFO - Optimization finished | best cost: 517262.8729417303, best pos: [0.76059414 0.15546323 0.13704419 0.57184892 0.23108636 0.31398035\n",
      " 0.67788066 0.38921632 0.71910504 0.80636484]\n",
      "2021-11-20 20:21:52,932 - pyswarms.single.global_best - INFO - Optimize for 200 iters with {'c1': 1.9, 'c2': 2, 'w': 0.9}\n",
      "pyswarms.single.global_best: 100%|███████████████████████████████████████████████████████████|200/200, best_cost=4.6e+5\n",
      "2021-11-20 20:21:53,741 - pyswarms.single.global_best - INFO - Optimization finished | best cost: 459814.9254061605, best pos: [0.83963463 0.80796193 0.66296088 0.37948342 0.04508317 0.38637699\n",
      " 0.34614365 0.58408383 0.19507748 0.32421359]\n",
      "2021-11-20 20:21:53,749 - pyswarms.single.global_best - INFO - Optimize for 250 iters with {'c1': 1.9, 'c2': 2, 'w': 0.5}\n",
      "pyswarms.single.global_best: 100%|███████████████████████████████████████████████████████████|250/250, best_cost=1.5e+5\n",
      "2021-11-20 20:21:54,656 - pyswarms.single.global_best - INFO - Optimization finished | best cost: 150284.3397534845, best pos: [0.88256923 0.98920928 0.5425991  0.5299258  0.08617526 0.39393263\n",
      " 0.80954198 0.76829617 0.64831792 0.40237671]\n",
      "2021-11-20 20:21:54,664 - pyswarms.single.global_best - INFO - Optimize for 200 iters with {'c1': 1.9, 'c2': 2, 'w': 0.5}\n",
      "pyswarms.single.global_best: 100%|██████████████████████████████████████████████████████████|200/200, best_cost=1.71e+5\n",
      "2021-11-20 20:21:55,487 - pyswarms.single.global_best - INFO - Optimization finished | best cost: 171065.6961181298, best pos: [0.64832602 0.40237622 0.80956852 0.76833999 0.08605939 0.39366374\n",
      " 0.12052294 0.6545849  0.54257736 0.529934  ]\n",
      "2021-11-20 20:21:55,493 - pyswarms.single.global_best - INFO - Optimize for 250 iters with {'c1': 2, 'c2': 1.7, 'w': 0.9}\n",
      "pyswarms.single.global_best: 100%|███████████████████████████████████████████████████████████|250/250, best_cost=5.6e+5\n",
      "2021-11-20 20:21:56,371 - pyswarms.single.global_best - INFO - Optimization finished | best cost: 559714.6802797342, best pos: [0.34885617 0.91678782 0.36350235 0.15042744 0.71572976 0.73657591\n",
      " 0.65510043 0.43627247 0.34225107 0.18396278]\n",
      "2021-11-20 20:21:56,377 - pyswarms.single.global_best - INFO - Optimize for 200 iters with {'c1': 2, 'c2': 1.7, 'w': 0.9}\n",
      "pyswarms.single.global_best: 100%|██████████████████████████████████████████████████████████|200/200, best_cost=4.78e+5\n",
      "2021-11-20 20:21:57,151 - pyswarms.single.global_best - INFO - Optimization finished | best cost: 478033.60543472745, best pos: [-0.37783069  0.89627566  0.12455641  0.39130776  0.84944712  0.79501464\n",
      "  1.27748743  0.34934046  0.6656979   0.43264237]\n",
      "2021-11-20 20:21:57,157 - pyswarms.single.global_best - INFO - Optimize for 250 iters with {'c1': 2, 'c2': 1.7, 'w': 0.5}\n",
      "pyswarms.single.global_best: 100%|██████████████████████████████████████████████████████████|250/250, best_cost=1.53e+5\n",
      "2021-11-20 20:21:58,054 - pyswarms.single.global_best - INFO - Optimization finished | best cost: 152666.63469298914, best pos: [0.80954198 0.76829616 0.5425991  0.52992577 0.88256928 0.98920928\n",
      " 0.64831793 0.4023767  0.12073474 0.65456506]\n",
      "2021-11-20 20:21:58,060 - pyswarms.single.global_best - INFO - Optimize for 200 iters with {'c1': 2, 'c2': 1.7, 'w': 0.5}\n",
      "pyswarms.single.global_best: 100%|██████████████████████████████████████████████████████████|200/200, best_cost=1.71e+5\n",
      "2021-11-20 20:21:58,842 - pyswarms.single.global_best - INFO - Optimization finished | best cost: 170930.46737523406, best pos: [0.64831793 0.4023767  0.5425991  0.52992577 0.80954198 0.76829616\n",
      " 0.12073474 0.65456506 0.08617523 0.39393244]\n",
      "2021-11-20 20:21:58,849 - pyswarms.single.global_best - INFO - Optimize for 250 iters with {'c1': 2, 'c2': 2, 'w': 0.9}\n",
      "pyswarms.single.global_best: 100%|██████████████████████████████████████████████████████████|250/250, best_cost=5.56e+5\n",
      "2021-11-20 20:21:59,755 - pyswarms.single.global_best - INFO - Optimization finished | best cost: 556488.7140660471, best pos: [0.11913358 0.75537662 0.62764197 0.48495584 0.1292433  0.57609877\n",
      " 0.97984602 1.8946141  0.80024351 0.81312521]\n",
      "2021-11-20 20:21:59,761 - pyswarms.single.global_best - INFO - Optimize for 200 iters with {'c1': 2, 'c2': 2, 'w': 0.9}\n",
      "pyswarms.single.global_best: 100%|██████████████████████████████████████████████████████████|200/200, best_cost=5.96e+5\n",
      "2021-11-20 20:22:00,578 - pyswarms.single.global_best - INFO - Optimization finished | best cost: 595808.3539353051, best pos: [0.74653748 0.55833942 0.35432886 0.62040678 0.40292184 0.86533194\n",
      " 0.8662797  0.68242963 0.63705421 0.44236292]\n",
      "2021-11-20 20:22:00,585 - pyswarms.single.global_best - INFO - Optimize for 250 iters with {'c1': 2, 'c2': 2, 'w': 0.5}\n",
      "pyswarms.single.global_best: 100%|███████████████████████████████████████████████████████████|250/250, best_cost=1.5e+5\n",
      "2021-11-20 20:22:01,463 - pyswarms.single.global_best - INFO - Optimization finished | best cost: 150284.31975885987, best pos: [0.80954198 0.76829616 0.88256928 0.98920927 0.5425991  0.52992577\n",
      " 0.64831793 0.4023767  0.08617548 0.39393306]\n",
      "2021-11-20 20:22:01,468 - pyswarms.single.global_best - INFO - Optimize for 200 iters with {'c1': 2, 'c2': 2, 'w': 0.5}\n",
      "pyswarms.single.global_best: 100%|███████████████████████████████████████████████████████████|200/200, best_cost=1.5e+5\n",
      "2021-11-20 20:22:02,237 - pyswarms.single.global_best - INFO - Optimization finished | best cost: 150285.80006902487, best pos: [0.80954133 0.76829595 0.648318   0.40237685 0.54259877 0.52992566\n",
      " 0.08617798 0.39393345 0.88256917 0.9892096 ]\n",
      "2021-11-20 20:22:02,242 - pyswarms.single.global_best - INFO - Optimize for 250 iters with {'c1': 1.9, 'c2': 1.7, 'w': 0.9}\n"
     ]
    },
    {
     "name": "stdout",
     "output_type": "stream",
     "text": [
      "End Time:  1637439722.2380486\n",
      "Start Time:  1637439722.2380486\n"
     ]
    },
    {
     "name": "stderr",
     "output_type": "stream",
     "text": [
      "pyswarms.single.global_best: 100%|██████████████████████████████████████████████████████████|250/250, best_cost=4.95e+5\n",
      "2021-11-20 20:22:03,031 - pyswarms.single.global_best - INFO - Optimization finished | best cost: 494604.34287160134, best pos: [0.81986105 0.8040144  0.66479772 0.42179235 0.09638534 1.91218832\n",
      " 0.06093699 0.24410917 0.66954873 1.86386445]\n",
      "2021-11-20 20:22:03,036 - pyswarms.single.global_best - INFO - Optimize for 200 iters with {'c1': 1.9, 'c2': 1.7, 'w': 0.9}\n",
      "pyswarms.single.global_best: 100%|██████████████████████████████████████████████████████████|200/200, best_cost=4.55e+5\n",
      "2021-11-20 20:22:03,786 - pyswarms.single.global_best - INFO - Optimization finished | best cost: 454956.6067867214, best pos: [0.41496124 0.97955981 0.64326579 0.40216383 0.6424747  0.1511158\n",
      " 0.73332877 0.88973009 0.56258748 0.48597304]\n",
      "2021-11-20 20:22:03,791 - pyswarms.single.global_best - INFO - Optimize for 250 iters with {'c1': 1.9, 'c2': 1.7, 'w': 0.5}\n",
      "pyswarms.single.global_best: 100%|███████████████████████████████████████████████████████████|250/250, best_cost=1.5e+5\n",
      "2021-11-20 20:22:04,653 - pyswarms.single.global_best - INFO - Optimization finished | best cost: 150284.27950874972, best pos: [0.64831793 0.4023767  0.08617522 0.39393245 0.5425991  0.52992577\n",
      " 0.88256928 0.98920928 0.80954198 0.76829616]\n",
      "2021-11-20 20:22:04,659 - pyswarms.single.global_best - INFO - Optimize for 200 iters with {'c1': 1.9, 'c2': 1.7, 'w': 0.5}\n",
      "pyswarms.single.global_best: 100%|███████████████████████████████████████████████████████████|200/200, best_cost=2.3e+5\n",
      "2021-11-20 20:22:05,415 - pyswarms.single.global_best - INFO - Optimization finished | best cost: 230131.00279470222, best pos: [0.64831793 0.4023767  0.80954198 0.76829616 1.60135533 1.34996036\n",
      " 0.5425991  0.52992577 0.08617522 0.39393245]\n",
      "2021-11-20 20:22:05,420 - pyswarms.single.global_best - INFO - Optimize for 250 iters with {'c1': 1.9, 'c2': 2, 'w': 0.9}\n",
      "pyswarms.single.global_best: 100%|██████████████████████████████████████████████████████████|250/250, best_cost=5.76e+5\n",
      "2021-11-20 20:22:06,262 - pyswarms.single.global_best - INFO - Optimization finished | best cost: 576433.339222799, best pos: [-0.03483772  1.5276896   0.78930336  0.73990742 -0.23527625  0.29875265\n",
      "  0.66900643  0.41133778 -0.12814827 -0.2060479 ]\n",
      "2021-11-20 20:22:06,267 - pyswarms.single.global_best - INFO - Optimize for 200 iters with {'c1': 1.9, 'c2': 2, 'w': 0.9}\n",
      "pyswarms.single.global_best: 100%|██████████████████████████████████████████████████████████|200/200, best_cost=4.72e+5\n",
      "2021-11-20 20:22:07,044 - pyswarms.single.global_best - INFO - Optimization finished | best cost: 472086.0020979518, best pos: [ 0.6479694   0.40715937  0.06410931  0.62829975  0.73640725  0.90332901\n",
      " -0.10686713  0.06522408 -0.24035168 -1.41048337]\n",
      "2021-11-20 20:22:07,049 - pyswarms.single.global_best - INFO - Optimize for 250 iters with {'c1': 1.9, 'c2': 2, 'w': 0.5}\n",
      "pyswarms.single.global_best: 100%|██████████████████████████████████████████████████████████|250/250, best_cost=1.71e+5\n",
      "2021-11-20 20:22:07,919 - pyswarms.single.global_best - INFO - Optimization finished | best cost: 170930.47216355448, best pos: [0.08617522 0.39393244 0.64831793 0.4023767  0.80954198 0.76829616\n",
      " 0.12073475 0.65456511 0.5425991  0.52992577]\n",
      "2021-11-20 20:22:07,923 - pyswarms.single.global_best - INFO - Optimize for 200 iters with {'c1': 1.9, 'c2': 2, 'w': 0.5}\n",
      "pyswarms.single.global_best: 100%|███████████████████████████████████████████████████████████|200/200, best_cost=1.5e+5\n",
      "2021-11-20 20:22:08,886 - pyswarms.single.global_best - INFO - Optimization finished | best cost: 150284.36745239465, best pos: [0.54259912 0.52992579 0.88256932 0.98920928 0.80954198 0.7682962\n",
      " 0.08617521 0.39393242 0.64831793 0.4023767 ]\n",
      "2021-11-20 20:22:08,895 - pyswarms.single.global_best - INFO - Optimize for 250 iters with {'c1': 2, 'c2': 1.7, 'w': 0.9}\n",
      "pyswarms.single.global_best: 100%|██████████████████████████████████████████████████████████|250/250, best_cost=5.22e+5\n",
      "2021-11-20 20:22:09,819 - pyswarms.single.global_best - INFO - Optimization finished | best cost: 522326.7935691449, best pos: [1.11536833 2.51067395 0.67555132 0.39624683 0.90131285 0.73007676\n",
      " 0.11936234 0.2324565  0.56653937 0.6458593 ]\n",
      "2021-11-20 20:22:09,824 - pyswarms.single.global_best - INFO - Optimize for 200 iters with {'c1': 2, 'c2': 1.7, 'w': 0.9}\n",
      "pyswarms.single.global_best: 100%|██████████████████████████████████████████████████████████|200/200, best_cost=4.21e+5\n",
      "2021-11-20 20:22:10,631 - pyswarms.single.global_best - INFO - Optimization finished | best cost: 421347.4524939375, best pos: [0.84879699 0.74107316 0.95414546 0.7577481  0.66232587 0.39950347\n",
      " 0.30709304 0.19635408 0.14349064 0.57240352]\n",
      "2021-11-20 20:22:10,637 - pyswarms.single.global_best - INFO - Optimize for 250 iters with {'c1': 2, 'c2': 1.7, 'w': 0.5}\n",
      "pyswarms.single.global_best: 100%|███████████████████████████████████████████████████████████|250/250, best_cost=1.5e+5\n",
      "2021-11-20 20:22:11,477 - pyswarms.single.global_best - INFO - Optimization finished | best cost: 150284.27952805255, best pos: [0.64831793 0.4023767  0.80954198 0.76829616 0.88256928 0.98920928\n",
      " 0.08617522 0.39393245 0.5425991  0.52992577]\n",
      "2021-11-20 20:22:11,485 - pyswarms.single.global_best - INFO - Optimize for 200 iters with {'c1': 2, 'c2': 1.7, 'w': 0.5}\n",
      "pyswarms.single.global_best: 100%|███████████████████████████████████████████████████████████|200/200, best_cost=1.5e+5\n",
      "2021-11-20 20:22:12,292 - pyswarms.single.global_best - INFO - Optimization finished | best cost: 150284.28290524843, best pos: [0.64831793 0.4023767  0.88256928 0.98920928 0.08617523 0.39393246\n",
      " 0.80954198 0.76829616 0.5425991  0.52992577]\n",
      "2021-11-20 20:22:12,299 - pyswarms.single.global_best - INFO - Optimize for 250 iters with {'c1': 2, 'c2': 2, 'w': 0.9}\n",
      "pyswarms.single.global_best: 100%|██████████████████████████████████████████████████████████|250/250, best_cost=5.11e+5\n",
      "2021-11-20 20:22:13,164 - pyswarms.single.global_best - INFO - Optimization finished | best cost: 511145.71524812595, best pos: [-0.09179506  0.51788712  0.62698578  0.45579246  0.19513776  0.79862617\n",
      " -0.52807784  0.10947631  0.78741846  0.81817954]\n",
      "2021-11-20 20:22:13,170 - pyswarms.single.global_best - INFO - Optimize for 200 iters with {'c1': 2, 'c2': 2, 'w': 0.9}\n",
      "pyswarms.single.global_best: 100%|██████████████████████████████████████████████████████████|200/200, best_cost=5.66e+5\n",
      "2021-11-20 20:22:13,955 - pyswarms.single.global_best - INFO - Optimization finished | best cost: 566484.9530886183, best pos: [ 0.36996818  1.19391771  0.20817896  0.61431636  0.61252913  0.38214351\n",
      "  0.72214987  0.85025122  0.30860742 -5.21617429]\n",
      "2021-11-20 20:22:13,964 - pyswarms.single.global_best - INFO - Optimize for 250 iters with {'c1': 2, 'c2': 2, 'w': 0.5}\n",
      "pyswarms.single.global_best: 100%|███████████████████████████████████████████████████████████|250/250, best_cost=1.5e+5\n",
      "2021-11-20 20:22:14,823 - pyswarms.single.global_best - INFO - Optimization finished | best cost: 150284.31916334407, best pos: [0.80954198 0.76829616 0.64831793 0.4023767  0.54259911 0.52992579\n",
      " 0.88256925 0.9892093  0.08617525 0.39393249]\n",
      "2021-11-20 20:22:14,830 - pyswarms.single.global_best - INFO - Optimize for 200 iters with {'c1': 2, 'c2': 2, 'w': 0.5}\n",
      "pyswarms.single.global_best: 100%|███████████████████████████████████████████████████████████|200/200, best_cost=1.5e+5\n",
      "2021-11-20 20:22:15,635 - pyswarms.single.global_best - INFO - Optimization finished | best cost: 150304.07509498578, best pos: [0.88257109 0.98920555 0.54259902 0.52992511 0.80954664 0.76829085\n",
      " 0.08627804 0.39409335 0.64831813 0.40237469]\n",
      "2021-11-20 20:22:15,640 - pyswarms.single.global_best - INFO - Optimize for 250 iters with {'c1': 1.9, 'c2': 1.7, 'w': 0.9}\n"
     ]
    },
    {
     "name": "stdout",
     "output_type": "stream",
     "text": [
      "End Time:  1637439735.6351109\n",
      "Start Time:  1637439735.6351109\n"
     ]
    },
    {
     "name": "stderr",
     "output_type": "stream",
     "text": [
      "pyswarms.single.global_best: 100%|██████████████████████████████████████████████████████████|250/250, best_cost=5.24e+5\n",
      "2021-11-20 20:22:16,416 - pyswarms.single.global_best - INFO - Optimization finished | best cost: 524226.5169430863, best pos: [0.68741119 0.06085904 0.92692848 0.95626424 0.47678567 0.57698624\n",
      " 0.76275617 0.65336587 0.68531612 0.38634862]\n",
      "2021-11-20 20:22:16,422 - pyswarms.single.global_best - INFO - Optimize for 200 iters with {'c1': 1.9, 'c2': 1.7, 'w': 0.9}\n",
      "pyswarms.single.global_best: 100%|██████████████████████████████████████████████████████████|200/200, best_cost=5.04e+5\n",
      "2021-11-20 20:22:17,206 - pyswarms.single.global_best - INFO - Optimization finished | best cost: 504461.11114154564, best pos: [ 0.44294481  0.36241608  0.63609695  0.37795341 -5.85023604  1.18291033\n",
      "  0.50249149  0.58546981  0.75818773  0.72514606]\n",
      "2021-11-20 20:22:17,213 - pyswarms.single.global_best - INFO - Optimize for 250 iters with {'c1': 1.9, 'c2': 1.7, 'w': 0.5}\n",
      "pyswarms.single.global_best: 100%|███████████████████████████████████████████████████████████|250/250, best_cost=1.5e+5\n",
      "2021-11-20 20:22:18,031 - pyswarms.single.global_best - INFO - Optimization finished | best cost: 150284.27957441733, best pos: [0.88256928 0.98920928 0.64831793 0.4023767  0.5425991  0.52992577\n",
      " 0.80954198 0.76829616 0.08617523 0.39393245]\n",
      "2021-11-20 20:22:18,037 - pyswarms.single.global_best - INFO - Optimize for 200 iters with {'c1': 1.9, 'c2': 1.7, 'w': 0.5}\n",
      "pyswarms.single.global_best: 100%|██████████████████████████████████████████████████████████|200/200, best_cost=1.71e+5\n",
      "2021-11-20 20:22:18,829 - pyswarms.single.global_best - INFO - Optimization finished | best cost: 170930.46442769357, best pos: [0.80954198 0.76829616 0.5425991  0.52992577 0.08617523 0.39393245\n",
      " 0.64831793 0.4023767  0.12073474 0.65456506]\n",
      "2021-11-20 20:22:18,834 - pyswarms.single.global_best - INFO - Optimize for 250 iters with {'c1': 1.9, 'c2': 2, 'w': 0.9}\n",
      "pyswarms.single.global_best: 100%|███████████████████████████████████████████████████████████|250/250, best_cost=5.2e+5\n",
      "2021-11-20 20:22:19,661 - pyswarms.single.global_best - INFO - Optimization finished | best cost: 520065.72311821394, best pos: [0.32883054 0.4941485  0.7925249  0.98622768 0.63325395 0.40544296\n",
      " 0.1935538  0.77501839 0.34631413 0.89814797]\n",
      "2021-11-20 20:22:19,665 - pyswarms.single.global_best - INFO - Optimize for 200 iters with {'c1': 1.9, 'c2': 2, 'w': 0.9}\n",
      "pyswarms.single.global_best: 100%|██████████████████████████████████████████████████████████|200/200, best_cost=6.25e+5\n",
      "2021-11-20 20:22:20,444 - pyswarms.single.global_best - INFO - Optimization finished | best cost: 624513.016548918, best pos: [-0.49565044  0.62463888  0.02166995  0.41049923  1.13863038 -0.4072151\n",
      "  0.81743901  0.67331239  0.61559134  0.46628711]\n",
      "2021-11-20 20:22:20,449 - pyswarms.single.global_best - INFO - Optimize for 250 iters with {'c1': 1.9, 'c2': 2, 'w': 0.5}\n",
      "pyswarms.single.global_best: 100%|███████████████████████████████████████████████████████████|250/250, best_cost=1.5e+5\n",
      "2021-11-20 20:22:21,310 - pyswarms.single.global_best - INFO - Optimization finished | best cost: 150284.49806914805, best pos: [0.80954198 0.76829616 0.88256936 0.98920939 0.0861778  0.3939352\n",
      " 0.54259908 0.52992576 0.64831792 0.4023767 ]\n",
      "2021-11-20 20:22:21,315 - pyswarms.single.global_best - INFO - Optimize for 200 iters with {'c1': 1.9, 'c2': 2, 'w': 0.5}\n",
      "pyswarms.single.global_best: 100%|███████████████████████████████████████████████████████████|200/200, best_cost=1.5e+5\n",
      "2021-11-20 20:22:22,102 - pyswarms.single.global_best - INFO - Optimization finished | best cost: 150284.68381538233, best pos: [0.64831798 0.40237672 0.08617577 0.39393293 0.809542   0.76829612\n",
      " 0.54259903 0.52992584 0.88256938 0.98920901]\n",
      "2021-11-20 20:22:22,108 - pyswarms.single.global_best - INFO - Optimize for 250 iters with {'c1': 2, 'c2': 1.7, 'w': 0.9}\n",
      "pyswarms.single.global_best: 100%|███████████████████████████████████████████████████████████|250/250, best_cost=5.7e+5\n",
      "2021-11-20 20:22:22,936 - pyswarms.single.global_best - INFO - Optimization finished | best cost: 570009.8373366477, best pos: [0.64725789 0.3678004  0.78016647 0.67702996 1.45049485 1.49420977\n",
      " 0.19832445 0.49925039 0.13181324 0.14803407]\n",
      "2021-11-20 20:22:22,945 - pyswarms.single.global_best - INFO - Optimize for 200 iters with {'c1': 2, 'c2': 1.7, 'w': 0.9}\n",
      "pyswarms.single.global_best: 100%|██████████████████████████████████████████████████████████|200/200, best_cost=5.61e+5\n",
      "2021-11-20 20:22:23,736 - pyswarms.single.global_best - INFO - Optimization finished | best cost: 560980.7896051783, best pos: [ 0.47889051  0.47288191  1.06309592 -0.39584078  1.20724614 -0.23794837\n",
      "  0.81631285  0.67684901  0.62531301  0.39876684]\n",
      "2021-11-20 20:22:23,743 - pyswarms.single.global_best - INFO - Optimize for 250 iters with {'c1': 2, 'c2': 1.7, 'w': 0.5}\n",
      "pyswarms.single.global_best: 100%|███████████████████████████████████████████████████████████|250/250, best_cost=1.5e+5\n",
      "2021-11-20 20:22:24,615 - pyswarms.single.global_best - INFO - Optimization finished | best cost: 150284.2795481516, best pos: [0.08617522 0.39393245 0.80954198 0.76829616 0.5425991  0.52992577\n",
      " 0.64831793 0.4023767  0.88256928 0.98920928]\n",
      "2021-11-20 20:22:24,621 - pyswarms.single.global_best - INFO - Optimize for 200 iters with {'c1': 2, 'c2': 1.7, 'w': 0.5}\n",
      "pyswarms.single.global_best: 100%|██████████████████████████████████████████████████████████|200/200, best_cost=1.71e+5\n",
      "2021-11-20 20:22:25,385 - pyswarms.single.global_best - INFO - Optimization finished | best cost: 170930.4644983575, best pos: [0.80954198 0.76829616 0.64831793 0.4023767  0.12073474 0.65456506\n",
      " 0.08617523 0.39393245 0.5425991  0.52992577]\n",
      "2021-11-20 20:22:25,390 - pyswarms.single.global_best - INFO - Optimize for 250 iters with {'c1': 2, 'c2': 2, 'w': 0.9}\n",
      "pyswarms.single.global_best: 100%|██████████████████████████████████████████████████████████|250/250, best_cost=5.84e+5\n",
      "2021-11-20 20:22:26,248 - pyswarms.single.global_best - INFO - Optimization finished | best cost: 583974.5605578256, best pos: [0.83915213 0.76851199 0.24885973 0.50541061 0.69607227 0.34589334\n",
      " 0.84532453 0.97576116 0.42513325 0.18079014]\n",
      "2021-11-20 20:22:26,253 - pyswarms.single.global_best - INFO - Optimize for 200 iters with {'c1': 2, 'c2': 2, 'w': 0.9}\n",
      "pyswarms.single.global_best: 100%|██████████████████████████████████████████████████████████|200/200, best_cost=4.56e+5\n",
      "2021-11-20 20:22:27,073 - pyswarms.single.global_best - INFO - Optimization finished | best cost: 456267.6862289597, best pos: [0.11090286 0.50434972 0.9463761  0.89594905 0.66711102 0.42614722\n",
      " 0.29398827 0.8863524  0.47703606 0.50706375]\n",
      "2021-11-20 20:22:27,082 - pyswarms.single.global_best - INFO - Optimize for 250 iters with {'c1': 2, 'c2': 2, 'w': 0.5}\n",
      "pyswarms.single.global_best: 100%|██████████████████████████████████████████████████████████|250/250, best_cost=2.17e+5\n",
      "2021-11-20 20:22:27,992 - pyswarms.single.global_best - INFO - Optimization finished | best cost: 216501.8768081099, best pos: [0.80954198 0.76829616 0.0861752  0.39393238 0.88256932 0.98920924\n",
      " 0.12073471 0.6545651  0.64831793 0.40237671]\n",
      "2021-11-20 20:22:27,997 - pyswarms.single.global_best - INFO - Optimize for 200 iters with {'c1': 2, 'c2': 2, 'w': 0.5}\n",
      "pyswarms.single.global_best: 100%|██████████████████████████████████████████████████████████|200/200, best_cost=1.71e+5\n",
      "2021-11-20 20:22:28,808 - pyswarms.single.global_best - INFO - Optimization finished | best cost: 170933.21677323917, best pos: [0.80954182 0.76829712 0.12075346 0.65458087 0.54259911 0.52992585\n",
      " 0.08617523 0.39393164 0.64831797 0.40237668]\n"
     ]
    },
    {
     "name": "stdout",
     "output_type": "stream",
     "text": [
      "End Time:  1637439748.8099372\n",
      "Start Time:  1637439748.8099372\n",
      "(5_w,10)-aCMA-ES (mu_w=3.2,w_1=45%) in dimension 10 (seed=1, Sat Nov 20 20:22:28 2021)\n",
      "Iterat #Fevals   function value  axis ratio  sigma  min&max std  t[m:s]\n",
      "    1     10 9.017699678172139e+05 1.0e+00 4.76e-01  5e-01  5e-01 0:00.0\n",
      "    2     20 7.418654975188125e+05 1.2e+00 4.48e-01  4e-01  5e-01 0:00.0\n",
      "    3     30 8.851369320176207e+05 1.2e+00 4.73e-01  4e-01  5e-01 0:00.0\n",
      "  100   1000 4.277889696570773e+05 1.0e+01 1.45e-01  3e-02  2e-01 0:00.2\n",
      "  200   2000 2.433140098113324e+05 3.3e+01 1.65e-03  7e-05  2e-03 0:00.3\n",
      "  300   3000 2.418475420343096e+05 3.1e+01 8.34e-06  1e-07  4e-06 0:00.5\n",
      "  400   4000 2.418457515038924e+05 4.6e+01 1.93e-08  1e-10  4e-09 0:00.6\n",
      "  499   4990 2.418457491827580e+05 6.2e+01 8.10e-11  2e-13  1e-11 0:00.8\n",
      "End Time:  1637439749.7034335\n",
      "Start Time:  1637439749.7044308\n",
      "(5_w,10)-aCMA-ES (mu_w=3.2,w_1=45%) in dimension 10 (seed=2, Sat Nov 20 20:22:29 2021)\n",
      "Iterat #Fevals   function value  axis ratio  sigma  min&max std  t[m:s]\n",
      "    1     10 9.533924606926995e+05 1.0e+00 5.03e-01  5e-01  5e-01 0:00.0\n",
      "    2     20 1.168354945178312e+06 1.2e+00 5.54e-01  5e-01  6e-01 0:00.0\n",
      "    3     30 5.489661718698614e+05 1.3e+00 5.56e-01  5e-01  6e-01 0:00.0\n",
      "  100   1000 8.113216428194672e+05 5.3e+00 1.07e+00  7e-01  1e+00 0:00.2\n",
      "  200   2000 7.233619717218281e+05 1.3e+01 1.04e+00  6e-01  2e+00 0:00.3\n",
      "  300   3000 6.029584939666289e+05 2.9e+01 3.34e+00  1e+00  6e+00 0:00.5\n",
      "  400   4000 6.894848051218904e+05 6.8e+01 2.34e+00  9e-01  6e+00 0:00.6\n",
      "  500   5000 8.680315253679276e+05 8.8e+01 1.55e+00  4e-01  3e+00 0:00.8\n",
      "  505   5050 1.093624735986565e+06 8.6e+01 1.33e+00  3e-01  2e+00 0:00.8\n",
      "End Time:  1637439750.6097732\n",
      "Start Time:  1637439750.6097732\n",
      "(5_w,10)-aCMA-ES (mu_w=3.2,w_1=45%) in dimension 10 (seed=3, Sat Nov 20 20:22:30 2021)\n",
      "Iterat #Fevals   function value  axis ratio  sigma  min&max std  t[m:s]\n",
      "    1     10 8.632896120667593e+05 1.0e+00 5.04e-01  5e-01  5e-01 0:00.0\n",
      "    2     20 9.044437077929812e+05 1.2e+00 5.36e-01  5e-01  6e-01 0:00.0\n",
      "    3     30 9.027436489686669e+05 1.4e+00 5.87e-01  6e-01  7e-01 0:00.0\n",
      "  100   1000 7.715277392015770e+05 7.3e+00 1.10e+00  9e-01  1e+00 0:00.2\n",
      "  200   2000 6.761986033918522e+05 2.0e+01 7.02e-01  4e-01  9e-01 0:00.3\n",
      "  300   3000 2.708235455576125e+05 1.3e+01 2.13e-02  3e-03  1e-02 0:00.5\n",
      "  400   4000 2.551534995523720e+05 3.3e+01 1.08e-03  3e-05  8e-04 0:00.6\n",
      "  500   5000 2.549095126535893e+05 5.7e+02 4.22e-04  2e-06  1e-03 0:00.8\n",
      "  600   6000 2.539711050166824e+05 6.9e+02 4.04e-04  1e-06  5e-04 0:00.9\n",
      "  700   7000 2.539505221865595e+05 1.3e+03 8.82e-07  1e-09  1e-06 0:01.1\n",
      "  800   8000 2.539505092958396e+05 6.5e+03 4.13e-08  2e-11  1e-07 0:01.3\n",
      "NOTE (module=cma, iteration=818):  \n",
      "condition in coordinate system exceeded 1.0e+08, rescaled to 1.0e+00, \n",
      "condition changed from 1.7e+08 to 7.8e+02\n",
      "  900   9000 2.538400347466072e+05 8.9e+00 5.89e-03  2e-06  1e-02 0:01.4\n",
      " 1000  10000 2.183918564315996e+05 3.8e+01 1.98e-02  6e-06  3e-03 0:01.6\n",
      "Iterat #Fevals   function value  axis ratio  sigma  min&max std  t[m:s]\n",
      " 1100  11000 2.174798883671775e+05 1.1e+03 2.38e-02  9e-06  5e-04 0:01.7\n",
      " 1200  12000 2.166572887643268e+05 8.7e+02 4.32e-03  7e-07  2e-05 0:01.9\n",
      " 1300  13000 2.165120567666738e+05 1.6e+03 7.85e-03  6e-07  4e-05 0:02.1\n",
      " 1400  14000 2.165018755746233e+05 7.3e+02 8.78e-05  3e-09  1e-07 0:02.2\n",
      " 1500  15000 2.165018286311445e+05 7.5e+02 2.08e-07  3e-12  9e-11 0:02.4\n",
      " 1545  15450 2.165018285708211e+05 7.7e+02 2.73e-08  4e-13  9e-12 0:02.4\n",
      "End Time:  1637439753.4588149\n",
      "Start Time:  1637439753.4598036\n",
      "(5_w,10)-aCMA-ES (mu_w=3.2,w_1=45%) in dimension 10 (seed=4, Sat Nov 20 20:22:33 2021)\n",
      "Iterat #Fevals   function value  axis ratio  sigma  min&max std  t[m:s]\n",
      "    1     10 1.078688698337217e+06 1.0e+00 4.94e-01  5e-01  5e-01 0:00.0\n",
      "    2     20 7.402148149097414e+05 1.2e+00 5.52e-01  5e-01  6e-01 0:00.0\n",
      "    3     30 9.109669280941311e+05 1.3e+00 6.06e-01  6e-01  6e-01 0:00.0\n",
      "  100   1000 8.836952254896163e+05 6.4e+00 5.35e-01  2e-01  7e-01 0:00.2\n",
      "  200   2000 2.868400839119714e+05 7.0e+00 2.24e-02  5e-03  2e-02 0:00.3\n",
      "  300   3000 2.640969519887744e+05 2.7e+01 1.62e-04  5e-06  1e-04 0:00.5\n",
      "  400   4000 2.586760873383159e+05 1.0e+02 3.50e-03  4e-05  4e-03 0:00.6\n",
      "  500   5000 2.582042157675940e+05 2.0e+02 1.33e-04  6e-07  1e-04 0:00.8\n",
      "  600   6000 2.581917447826478e+05 1.2e+03 2.50e-05  4e-08  4e-05 0:01.0\n",
      "  700   7000 2.581596091058430e+05 5.3e+02 2.59e-05  3e-08  1e-05 0:01.1\n",
      "  800   8000 2.581567562149111e+05 1.4e+02 4.82e-06  5e-09  6e-07 0:01.3\n",
      "  900   9000 2.581567082432884e+05 3.1e+02 1.57e-08  5e-12  1e-09 0:01.4\n",
      "  971   9710 2.581567081510569e+05 2.1e+02 3.18e-10  6e-14  9e-12 0:01.5\n",
      "End Time:  1637439755.245096\n",
      "Start Time:  1637439755.245096\n",
      "(5_w,10)-aCMA-ES (mu_w=3.2,w_1=45%) in dimension 10 (seed=5, Sat Nov 20 20:22:35 2021)\n",
      "Iterat #Fevals   function value  axis ratio  sigma  min&max std  t[m:s]\n",
      "    1     10 1.168714531575962e+06 1.0e+00 4.89e-01  5e-01  5e-01 0:00.0\n",
      "    2     20 9.775752235812976e+05 1.2e+00 5.03e-01  5e-01  5e-01 0:00.0\n",
      "    3     30 9.574319047997326e+05 1.3e+00 5.23e-01  5e-01  6e-01 0:00.0\n",
      "  100   1000 6.898422157146094e+05 8.6e+00 6.88e-01  5e-01  1e+00 0:00.2\n",
      "  200   2000 7.491308990395751e+05 1.2e+01 1.24e+00  9e-01  2e+00 0:00.3\n",
      "  300   3000 7.806883675223973e+05 1.8e+01 1.57e+00  9e-01  2e+00 0:00.5\n",
      "  400   4000 4.479012285403048e+05 1.7e+01 1.83e-01  3e-02  1e-01 0:00.7\n",
      "  500   5000 2.241133943057390e+05 1.3e+01 7.85e-04  3e-05  3e-04 0:00.8\n",
      "  600   6000 2.237486346792807e+05 8.7e+01 3.33e-04  3e-06  2e-04 0:01.0\n",
      "  700   7000 1.529892943549077e+05 1.4e+02 2.06e-02  1e-04  1e-02 0:01.1\n",
      "  800   8000 1.502913801820612e+05 1.3e+02 1.32e-04  2e-07  3e-05 0:01.3\n",
      "  900   9000 1.502842839804388e+05 6.5e+01 1.68e-07  2e-10  1e-08 0:01.5\n",
      " 1000  10000 1.502842795040337e+05 7.3e+01 5.01e-10  2e-13  1e-11 0:01.6\n",
      "Iterat #Fevals   function value  axis ratio  sigma  min&max std  t[m:s]\n",
      " 1005  10050 1.502842795025410e+05 7.5e+01 3.70e-10  2e-13  9e-12 0:01.6\n",
      "End Time:  1637439757.084683\n",
      "main end time 1637439757.084683\n",
      "Total Time =  79.04739284515381\n"
     ]
    }
   ],
   "source": [
    "if __name__ == \"__main__\":\n",
    "    main()"
   ]
  }
 ],
 "metadata": {
  "kernelspec": {
   "display_name": "Python 3",
   "language": "python",
   "name": "python3"
  },
  "language_info": {
   "codemirror_mode": {
    "name": "ipython",
    "version": 3
   },
   "file_extension": ".py",
   "mimetype": "text/x-python",
   "name": "python",
   "nbconvert_exporter": "python",
   "pygments_lexer": "ipython3",
   "version": "3.8.8"
  }
 },
 "nbformat": 4,
 "nbformat_minor": 5
}
